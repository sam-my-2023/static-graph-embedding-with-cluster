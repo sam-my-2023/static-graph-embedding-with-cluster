{
 "cells": [
  {
   "cell_type": "code",
   "execution_count": 1,
   "metadata": {},
   "outputs": [],
   "source": [
    "import os\n",
    "import sys\n",
    "PROJECT_PATH = os.path.abspath('..')\n",
    "sys.path.append(PROJECT_PATH)\n",
    "\n",
    "import pandas as pd\n",
    "import pickle\n",
    "Q = 0.25\n",
    "P = 0.5"
   ]
  },
  {
   "cell_type": "code",
   "execution_count": 2,
   "metadata": {},
   "outputs": [
    {
     "name": "stdout",
     "output_type": "stream",
     "text": [
      "[*********************100%***********************]  101 of 101 completed\n"
     ]
    }
   ],
   "source": [
    "from src.yf_data_obtain import obtainer\n",
    "\n",
    "list_of_tickers = obtainer.get_list_ticker('../yf_data/nasdaq_constituent.json')\n",
    "data = obtainer.ticker_download(list_of_tickers)"
   ]
  },
  {
   "cell_type": "code",
   "execution_count": 3,
   "metadata": {},
   "outputs": [],
   "source": [
    "data = data.dropna(axis=1)\n",
    "multi_index_columns = data.columns\n",
    "\n",
    "feature_names = multi_index_columns.get_level_values(0)\n",
    "feature_names = feature_names.unique().to_list()\n",
    "\n",
    "tickers = multi_index_columns.get_level_values(1)\n",
    "tickers = tickers.unique().to_list()"
   ]
  },
  {
   "cell_type": "code",
   "execution_count": 4,
   "metadata": {},
   "outputs": [
    {
     "name": "stdout",
     "output_type": "stream",
     "text": [
      "number of stocks: 98\n",
      "number of dates: 314\n"
     ]
    }
   ],
   "source": [
    "assert data.shape[1] == len(tickers)*len(feature_names)\n",
    "print(\"number of stocks:\", len(tickers))\n",
    "print('number of dates:', data.shape[0])"
   ]
  },
  {
   "cell_type": "code",
   "execution_count": 5,
   "metadata": {},
   "outputs": [
    {
     "data": {
      "text/plain": [
       "array([1.41208939e+02, 1.42649994e+02, 1.42919998e+02, 1.39110001e+02,\n",
       "       1.41899994e+02, 9.46396000e+07])"
      ]
     },
     "execution_count": 5,
     "metadata": {},
     "output_type": "execute_result"
    }
   ],
   "source": [
    "data.xs('AAPL',level=1,axis=1).to_numpy()[0]"
   ]
  },
  {
   "cell_type": "code",
   "execution_count": 6,
   "metadata": {},
   "outputs": [],
   "source": [
    "import numpy as np\n",
    "def get_stock_feature(data,tickers, feature_names=None):\n",
    "    np_data = [data.xs(t, level=1, axis=1).to_numpy() for t in tickers]\n",
    "    np_data = np.stack(np_data,axis=1)\n",
    "    return np_data"
   ]
  },
  {
   "cell_type": "code",
   "execution_count": 7,
   "metadata": {},
   "outputs": [
    {
     "name": "stdout",
     "output_type": "stream",
     "text": [
      "(num of dates, num of stocks, num of features)== (314, 98, 6)\n"
     ]
    }
   ],
   "source": [
    "print(\"(num of dates, num of stocks, num of features)==\",get_stock_feature(data,tickers).shape)"
   ]
  },
  {
   "cell_type": "code",
   "execution_count": 8,
   "metadata": {},
   "outputs": [],
   "source": [
    "def get_stock_price(data,tickers):\n",
    "    prices = data['Adj Close'][tickers].to_numpy() \n",
    "    return prices"
   ]
  },
  {
   "cell_type": "code",
   "execution_count": 9,
   "metadata": {},
   "outputs": [
    {
     "name": "stdout",
     "output_type": "stream",
     "text": [
      "(num of dates, num of stocks)== (314, 98)\n"
     ]
    }
   ],
   "source": [
    "print(\"(num of dates, num of stocks)==\",get_stock_price(data,tickers).shape)"
   ]
  },
  {
   "cell_type": "code",
   "execution_count": 10,
   "metadata": {},
   "outputs": [],
   "source": [
    "def get_stock_dates(data):\n",
    "    dates  = data.index.to_list() \n",
    "    return dates"
   ]
  },
  {
   "cell_type": "code",
   "execution_count": 11,
   "metadata": {},
   "outputs": [
    {
     "data": {
      "text/plain": [
       "[Timestamp('2021-10-01 00:00:00'),\n",
       " Timestamp('2021-10-04 00:00:00'),\n",
       " Timestamp('2021-10-05 00:00:00'),\n",
       " Timestamp('2021-10-06 00:00:00'),\n",
       " Timestamp('2021-10-07 00:00:00'),\n",
       " Timestamp('2021-10-08 00:00:00'),\n",
       " Timestamp('2021-10-11 00:00:00'),\n",
       " Timestamp('2021-10-12 00:00:00'),\n",
       " Timestamp('2021-10-13 00:00:00'),\n",
       " Timestamp('2021-10-14 00:00:00'),\n",
       " Timestamp('2021-10-15 00:00:00'),\n",
       " Timestamp('2021-10-18 00:00:00'),\n",
       " Timestamp('2021-10-19 00:00:00'),\n",
       " Timestamp('2021-10-20 00:00:00'),\n",
       " Timestamp('2021-10-21 00:00:00'),\n",
       " Timestamp('2021-10-22 00:00:00'),\n",
       " Timestamp('2021-10-25 00:00:00'),\n",
       " Timestamp('2021-10-26 00:00:00'),\n",
       " Timestamp('2021-10-27 00:00:00'),\n",
       " Timestamp('2021-10-28 00:00:00'),\n",
       " Timestamp('2021-10-29 00:00:00'),\n",
       " Timestamp('2021-11-01 00:00:00'),\n",
       " Timestamp('2021-11-02 00:00:00'),\n",
       " Timestamp('2021-11-03 00:00:00'),\n",
       " Timestamp('2021-11-04 00:00:00'),\n",
       " Timestamp('2021-11-05 00:00:00'),\n",
       " Timestamp('2021-11-08 00:00:00'),\n",
       " Timestamp('2021-11-09 00:00:00'),\n",
       " Timestamp('2021-11-10 00:00:00'),\n",
       " Timestamp('2021-11-11 00:00:00'),\n",
       " Timestamp('2021-11-12 00:00:00'),\n",
       " Timestamp('2021-11-15 00:00:00'),\n",
       " Timestamp('2021-11-16 00:00:00'),\n",
       " Timestamp('2021-11-17 00:00:00'),\n",
       " Timestamp('2021-11-18 00:00:00'),\n",
       " Timestamp('2021-11-19 00:00:00'),\n",
       " Timestamp('2021-11-22 00:00:00'),\n",
       " Timestamp('2021-11-23 00:00:00'),\n",
       " Timestamp('2021-11-24 00:00:00'),\n",
       " Timestamp('2021-11-26 00:00:00'),\n",
       " Timestamp('2021-11-29 00:00:00'),\n",
       " Timestamp('2021-11-30 00:00:00'),\n",
       " Timestamp('2021-12-01 00:00:00'),\n",
       " Timestamp('2021-12-02 00:00:00'),\n",
       " Timestamp('2021-12-03 00:00:00'),\n",
       " Timestamp('2021-12-06 00:00:00'),\n",
       " Timestamp('2021-12-07 00:00:00'),\n",
       " Timestamp('2021-12-08 00:00:00'),\n",
       " Timestamp('2021-12-09 00:00:00'),\n",
       " Timestamp('2021-12-10 00:00:00'),\n",
       " Timestamp('2021-12-13 00:00:00'),\n",
       " Timestamp('2021-12-14 00:00:00'),\n",
       " Timestamp('2021-12-15 00:00:00'),\n",
       " Timestamp('2021-12-16 00:00:00'),\n",
       " Timestamp('2021-12-17 00:00:00'),\n",
       " Timestamp('2021-12-20 00:00:00'),\n",
       " Timestamp('2021-12-21 00:00:00'),\n",
       " Timestamp('2021-12-22 00:00:00'),\n",
       " Timestamp('2021-12-23 00:00:00'),\n",
       " Timestamp('2021-12-27 00:00:00'),\n",
       " Timestamp('2021-12-28 00:00:00'),\n",
       " Timestamp('2021-12-29 00:00:00'),\n",
       " Timestamp('2021-12-30 00:00:00'),\n",
       " Timestamp('2021-12-31 00:00:00'),\n",
       " Timestamp('2022-01-03 00:00:00'),\n",
       " Timestamp('2022-01-04 00:00:00'),\n",
       " Timestamp('2022-01-05 00:00:00'),\n",
       " Timestamp('2022-01-06 00:00:00'),\n",
       " Timestamp('2022-01-07 00:00:00'),\n",
       " Timestamp('2022-01-10 00:00:00'),\n",
       " Timestamp('2022-01-11 00:00:00'),\n",
       " Timestamp('2022-01-12 00:00:00'),\n",
       " Timestamp('2022-01-13 00:00:00'),\n",
       " Timestamp('2022-01-14 00:00:00'),\n",
       " Timestamp('2022-01-18 00:00:00'),\n",
       " Timestamp('2022-01-19 00:00:00'),\n",
       " Timestamp('2022-01-20 00:00:00'),\n",
       " Timestamp('2022-01-21 00:00:00'),\n",
       " Timestamp('2022-01-24 00:00:00'),\n",
       " Timestamp('2022-01-25 00:00:00'),\n",
       " Timestamp('2022-01-26 00:00:00'),\n",
       " Timestamp('2022-01-27 00:00:00'),\n",
       " Timestamp('2022-01-28 00:00:00'),\n",
       " Timestamp('2022-01-31 00:00:00'),\n",
       " Timestamp('2022-02-01 00:00:00'),\n",
       " Timestamp('2022-02-02 00:00:00'),\n",
       " Timestamp('2022-02-03 00:00:00'),\n",
       " Timestamp('2022-02-04 00:00:00'),\n",
       " Timestamp('2022-02-07 00:00:00'),\n",
       " Timestamp('2022-02-08 00:00:00'),\n",
       " Timestamp('2022-02-09 00:00:00'),\n",
       " Timestamp('2022-02-10 00:00:00'),\n",
       " Timestamp('2022-02-11 00:00:00'),\n",
       " Timestamp('2022-02-14 00:00:00'),\n",
       " Timestamp('2022-02-15 00:00:00'),\n",
       " Timestamp('2022-02-16 00:00:00'),\n",
       " Timestamp('2022-02-17 00:00:00'),\n",
       " Timestamp('2022-02-18 00:00:00'),\n",
       " Timestamp('2022-02-22 00:00:00'),\n",
       " Timestamp('2022-02-23 00:00:00'),\n",
       " Timestamp('2022-02-24 00:00:00'),\n",
       " Timestamp('2022-02-25 00:00:00'),\n",
       " Timestamp('2022-02-28 00:00:00'),\n",
       " Timestamp('2022-03-01 00:00:00'),\n",
       " Timestamp('2022-03-02 00:00:00'),\n",
       " Timestamp('2022-03-03 00:00:00'),\n",
       " Timestamp('2022-03-04 00:00:00'),\n",
       " Timestamp('2022-03-07 00:00:00'),\n",
       " Timestamp('2022-03-08 00:00:00'),\n",
       " Timestamp('2022-03-09 00:00:00'),\n",
       " Timestamp('2022-03-10 00:00:00'),\n",
       " Timestamp('2022-03-11 00:00:00'),\n",
       " Timestamp('2022-03-14 00:00:00'),\n",
       " Timestamp('2022-03-15 00:00:00'),\n",
       " Timestamp('2022-03-16 00:00:00'),\n",
       " Timestamp('2022-03-17 00:00:00'),\n",
       " Timestamp('2022-03-18 00:00:00'),\n",
       " Timestamp('2022-03-21 00:00:00'),\n",
       " Timestamp('2022-03-22 00:00:00'),\n",
       " Timestamp('2022-03-23 00:00:00'),\n",
       " Timestamp('2022-03-24 00:00:00'),\n",
       " Timestamp('2022-03-25 00:00:00'),\n",
       " Timestamp('2022-03-28 00:00:00'),\n",
       " Timestamp('2022-03-29 00:00:00'),\n",
       " Timestamp('2022-03-30 00:00:00'),\n",
       " Timestamp('2022-03-31 00:00:00'),\n",
       " Timestamp('2022-04-01 00:00:00'),\n",
       " Timestamp('2022-04-04 00:00:00'),\n",
       " Timestamp('2022-04-05 00:00:00'),\n",
       " Timestamp('2022-04-06 00:00:00'),\n",
       " Timestamp('2022-04-07 00:00:00'),\n",
       " Timestamp('2022-04-08 00:00:00'),\n",
       " Timestamp('2022-04-11 00:00:00'),\n",
       " Timestamp('2022-04-12 00:00:00'),\n",
       " Timestamp('2022-04-13 00:00:00'),\n",
       " Timestamp('2022-04-14 00:00:00'),\n",
       " Timestamp('2022-04-18 00:00:00'),\n",
       " Timestamp('2022-04-19 00:00:00'),\n",
       " Timestamp('2022-04-20 00:00:00'),\n",
       " Timestamp('2022-04-21 00:00:00'),\n",
       " Timestamp('2022-04-22 00:00:00'),\n",
       " Timestamp('2022-04-25 00:00:00'),\n",
       " Timestamp('2022-04-26 00:00:00'),\n",
       " Timestamp('2022-04-27 00:00:00'),\n",
       " Timestamp('2022-04-28 00:00:00'),\n",
       " Timestamp('2022-04-29 00:00:00'),\n",
       " Timestamp('2022-05-02 00:00:00'),\n",
       " Timestamp('2022-05-03 00:00:00'),\n",
       " Timestamp('2022-05-04 00:00:00'),\n",
       " Timestamp('2022-05-05 00:00:00'),\n",
       " Timestamp('2022-05-06 00:00:00'),\n",
       " Timestamp('2022-05-09 00:00:00'),\n",
       " Timestamp('2022-05-10 00:00:00'),\n",
       " Timestamp('2022-05-11 00:00:00'),\n",
       " Timestamp('2022-05-12 00:00:00'),\n",
       " Timestamp('2022-05-13 00:00:00'),\n",
       " Timestamp('2022-05-16 00:00:00'),\n",
       " Timestamp('2022-05-17 00:00:00'),\n",
       " Timestamp('2022-05-18 00:00:00'),\n",
       " Timestamp('2022-05-19 00:00:00'),\n",
       " Timestamp('2022-05-20 00:00:00'),\n",
       " Timestamp('2022-05-23 00:00:00'),\n",
       " Timestamp('2022-05-24 00:00:00'),\n",
       " Timestamp('2022-05-25 00:00:00'),\n",
       " Timestamp('2022-05-26 00:00:00'),\n",
       " Timestamp('2022-05-27 00:00:00'),\n",
       " Timestamp('2022-05-31 00:00:00'),\n",
       " Timestamp('2022-06-01 00:00:00'),\n",
       " Timestamp('2022-06-02 00:00:00'),\n",
       " Timestamp('2022-06-03 00:00:00'),\n",
       " Timestamp('2022-06-06 00:00:00'),\n",
       " Timestamp('2022-06-07 00:00:00'),\n",
       " Timestamp('2022-06-08 00:00:00'),\n",
       " Timestamp('2022-06-09 00:00:00'),\n",
       " Timestamp('2022-06-10 00:00:00'),\n",
       " Timestamp('2022-06-13 00:00:00'),\n",
       " Timestamp('2022-06-14 00:00:00'),\n",
       " Timestamp('2022-06-15 00:00:00'),\n",
       " Timestamp('2022-06-16 00:00:00'),\n",
       " Timestamp('2022-06-17 00:00:00'),\n",
       " Timestamp('2022-06-21 00:00:00'),\n",
       " Timestamp('2022-06-22 00:00:00'),\n",
       " Timestamp('2022-06-23 00:00:00'),\n",
       " Timestamp('2022-06-24 00:00:00'),\n",
       " Timestamp('2022-06-27 00:00:00'),\n",
       " Timestamp('2022-06-28 00:00:00'),\n",
       " Timestamp('2022-06-29 00:00:00'),\n",
       " Timestamp('2022-06-30 00:00:00'),\n",
       " Timestamp('2022-07-01 00:00:00'),\n",
       " Timestamp('2022-07-05 00:00:00'),\n",
       " Timestamp('2022-07-06 00:00:00'),\n",
       " Timestamp('2022-07-07 00:00:00'),\n",
       " Timestamp('2022-07-08 00:00:00'),\n",
       " Timestamp('2022-07-11 00:00:00'),\n",
       " Timestamp('2022-07-12 00:00:00'),\n",
       " Timestamp('2022-07-13 00:00:00'),\n",
       " Timestamp('2022-07-14 00:00:00'),\n",
       " Timestamp('2022-07-15 00:00:00'),\n",
       " Timestamp('2022-07-18 00:00:00'),\n",
       " Timestamp('2022-07-19 00:00:00'),\n",
       " Timestamp('2022-07-20 00:00:00'),\n",
       " Timestamp('2022-07-21 00:00:00'),\n",
       " Timestamp('2022-07-22 00:00:00'),\n",
       " Timestamp('2022-07-25 00:00:00'),\n",
       " Timestamp('2022-07-26 00:00:00'),\n",
       " Timestamp('2022-07-27 00:00:00'),\n",
       " Timestamp('2022-07-28 00:00:00'),\n",
       " Timestamp('2022-07-29 00:00:00'),\n",
       " Timestamp('2022-08-01 00:00:00'),\n",
       " Timestamp('2022-08-02 00:00:00'),\n",
       " Timestamp('2022-08-03 00:00:00'),\n",
       " Timestamp('2022-08-04 00:00:00'),\n",
       " Timestamp('2022-08-05 00:00:00'),\n",
       " Timestamp('2022-08-08 00:00:00'),\n",
       " Timestamp('2022-08-09 00:00:00'),\n",
       " Timestamp('2022-08-10 00:00:00'),\n",
       " Timestamp('2022-08-11 00:00:00'),\n",
       " Timestamp('2022-08-12 00:00:00'),\n",
       " Timestamp('2022-08-15 00:00:00'),\n",
       " Timestamp('2022-08-16 00:00:00'),\n",
       " Timestamp('2022-08-17 00:00:00'),\n",
       " Timestamp('2022-08-18 00:00:00'),\n",
       " Timestamp('2022-08-19 00:00:00'),\n",
       " Timestamp('2022-08-22 00:00:00'),\n",
       " Timestamp('2022-08-23 00:00:00'),\n",
       " Timestamp('2022-08-24 00:00:00'),\n",
       " Timestamp('2022-08-25 00:00:00'),\n",
       " Timestamp('2022-08-26 00:00:00'),\n",
       " Timestamp('2022-08-29 00:00:00'),\n",
       " Timestamp('2022-08-30 00:00:00'),\n",
       " Timestamp('2022-08-31 00:00:00'),\n",
       " Timestamp('2022-09-01 00:00:00'),\n",
       " Timestamp('2022-09-02 00:00:00'),\n",
       " Timestamp('2022-09-06 00:00:00'),\n",
       " Timestamp('2022-09-07 00:00:00'),\n",
       " Timestamp('2022-09-08 00:00:00'),\n",
       " Timestamp('2022-09-09 00:00:00'),\n",
       " Timestamp('2022-09-12 00:00:00'),\n",
       " Timestamp('2022-09-13 00:00:00'),\n",
       " Timestamp('2022-09-14 00:00:00'),\n",
       " Timestamp('2022-09-15 00:00:00'),\n",
       " Timestamp('2022-09-16 00:00:00'),\n",
       " Timestamp('2022-09-19 00:00:00'),\n",
       " Timestamp('2022-09-20 00:00:00'),\n",
       " Timestamp('2022-09-21 00:00:00'),\n",
       " Timestamp('2022-09-22 00:00:00'),\n",
       " Timestamp('2022-09-23 00:00:00'),\n",
       " Timestamp('2022-09-26 00:00:00'),\n",
       " Timestamp('2022-09-27 00:00:00'),\n",
       " Timestamp('2022-09-28 00:00:00'),\n",
       " Timestamp('2022-09-29 00:00:00'),\n",
       " Timestamp('2022-09-30 00:00:00'),\n",
       " Timestamp('2022-10-03 00:00:00'),\n",
       " Timestamp('2022-10-04 00:00:00'),\n",
       " Timestamp('2022-10-05 00:00:00'),\n",
       " Timestamp('2022-10-06 00:00:00'),\n",
       " Timestamp('2022-10-07 00:00:00'),\n",
       " Timestamp('2022-10-10 00:00:00'),\n",
       " Timestamp('2022-10-11 00:00:00'),\n",
       " Timestamp('2022-10-12 00:00:00'),\n",
       " Timestamp('2022-10-13 00:00:00'),\n",
       " Timestamp('2022-10-14 00:00:00'),\n",
       " Timestamp('2022-10-17 00:00:00'),\n",
       " Timestamp('2022-10-18 00:00:00'),\n",
       " Timestamp('2022-10-19 00:00:00'),\n",
       " Timestamp('2022-10-20 00:00:00'),\n",
       " Timestamp('2022-10-21 00:00:00'),\n",
       " Timestamp('2022-10-24 00:00:00'),\n",
       " Timestamp('2022-10-25 00:00:00'),\n",
       " Timestamp('2022-10-26 00:00:00'),\n",
       " Timestamp('2022-10-27 00:00:00'),\n",
       " Timestamp('2022-10-28 00:00:00'),\n",
       " Timestamp('2022-10-31 00:00:00'),\n",
       " Timestamp('2022-11-01 00:00:00'),\n",
       " Timestamp('2022-11-02 00:00:00'),\n",
       " Timestamp('2022-11-03 00:00:00'),\n",
       " Timestamp('2022-11-04 00:00:00'),\n",
       " Timestamp('2022-11-07 00:00:00'),\n",
       " Timestamp('2022-11-08 00:00:00'),\n",
       " Timestamp('2022-11-09 00:00:00'),\n",
       " Timestamp('2022-11-10 00:00:00'),\n",
       " Timestamp('2022-11-11 00:00:00'),\n",
       " Timestamp('2022-11-14 00:00:00'),\n",
       " Timestamp('2022-11-15 00:00:00'),\n",
       " Timestamp('2022-11-16 00:00:00'),\n",
       " Timestamp('2022-11-17 00:00:00'),\n",
       " Timestamp('2022-11-18 00:00:00'),\n",
       " Timestamp('2022-11-21 00:00:00'),\n",
       " Timestamp('2022-11-22 00:00:00'),\n",
       " Timestamp('2022-11-23 00:00:00'),\n",
       " Timestamp('2022-11-25 00:00:00'),\n",
       " Timestamp('2022-11-28 00:00:00'),\n",
       " Timestamp('2022-11-29 00:00:00'),\n",
       " Timestamp('2022-11-30 00:00:00'),\n",
       " Timestamp('2022-12-01 00:00:00'),\n",
       " Timestamp('2022-12-02 00:00:00'),\n",
       " Timestamp('2022-12-05 00:00:00'),\n",
       " Timestamp('2022-12-06 00:00:00'),\n",
       " Timestamp('2022-12-07 00:00:00'),\n",
       " Timestamp('2022-12-08 00:00:00'),\n",
       " Timestamp('2022-12-09 00:00:00'),\n",
       " Timestamp('2022-12-12 00:00:00'),\n",
       " Timestamp('2022-12-13 00:00:00'),\n",
       " Timestamp('2022-12-14 00:00:00'),\n",
       " Timestamp('2022-12-15 00:00:00'),\n",
       " Timestamp('2022-12-16 00:00:00'),\n",
       " Timestamp('2022-12-19 00:00:00'),\n",
       " Timestamp('2022-12-20 00:00:00'),\n",
       " Timestamp('2022-12-21 00:00:00'),\n",
       " Timestamp('2022-12-22 00:00:00'),\n",
       " Timestamp('2022-12-23 00:00:00'),\n",
       " Timestamp('2022-12-27 00:00:00'),\n",
       " Timestamp('2022-12-28 00:00:00'),\n",
       " Timestamp('2022-12-29 00:00:00')]"
      ]
     },
     "execution_count": 11,
     "metadata": {},
     "output_type": "execute_result"
    }
   ],
   "source": [
    "get_stock_dates(data)"
   ]
  },
  {
   "cell_type": "code",
   "execution_count": 12,
   "metadata": {},
   "outputs": [],
   "source": [
    "EMBEDDING_PATH  = os.path.abspath('/home/sam/mingsong/ChatgptGraph/chatgpt_embedding')\n",
    "EMBEDDING_MODEL = \"text-embedding-ada-002\"\n",
    "\n",
    "path_to_embedding_folder = os.path.join(EMBEDDING_PATH,EMBEDDING_MODEL)\n",
    "path_to_company_embedding =os.path.join(EMBEDDING_PATH,'nasdaq100_info_embedding.pkl')"
   ]
  },
  {
   "cell_type": "code",
   "execution_count": 13,
   "metadata": {},
   "outputs": [],
   "source": [
    "import pickle\n",
    "with open(path_to_company_embedding,'rb') as f: \n",
    "    company_embedding_dict = pickle.load(f)"
   ]
  },
  {
   "cell_type": "code",
   "execution_count": 14,
   "metadata": {},
   "outputs": [
    {
     "data": {
      "text/plain": [
       "(98, 1536)"
      ]
     },
     "execution_count": 14,
     "metadata": {},
     "output_type": "execute_result"
    }
   ],
   "source": [
    "company_matrix = np.stack([company_embedding_dict[ticker] for ticker in tickers])\n",
    "company_matrix.shape"
   ]
  },
  {
   "cell_type": "code",
   "execution_count": 15,
   "metadata": {},
   "outputs": [],
   "source": [
    "from tqdm import tqdm\n",
    "\n",
    "def news_ticker_our_formats(tickers, graph_builder,\n",
    "                            path_news_folder,\n",
    "                            company_info_emedding\n",
    "                            ):\n",
    "    \n",
    "    \n",
    "    company_matrix = np.stack([company_info_emedding[ticker] for ticker in tickers])\n",
    "    \n",
    "    print(\"loading embedding matrixs\")\n",
    "    hl_matrixs = []\n",
    "    num_raw_news = len(os.listdir(path_news_folder))\n",
    "    for i in range(num_raw_news-1):\n",
    "        tem_path = os.path.join(path_news_folder,'day_'+str(i)+'.pkl')\n",
    "        with open(tem_path, 'rb') as f:\n",
    "            hl_matrix = pickle.load(f)\n",
    "            hl_matrix = np.squeeze(hl_matrix)\n",
    "            hl_matrixs.append(hl_matrix)\n",
    "    print(\"generating the graph in our formats\")\n",
    "    rst = []\n",
    "    for h in tqdm(hl_matrixs):\n",
    "        if h.shape[0]<1000:\n",
    "            tem = graph_builder(h,company_info_emedding)\n",
    "        rst.append(tem)\n",
    "    print(\"Finished!\")\n",
    "    return rst"
   ]
  },
  {
   "cell_type": "code",
   "execution_count": 16,
   "metadata": {},
   "outputs": [],
   "source": [
    "path_news_folder = path_to_embedding_folder\n",
    "hl_matrixs = []\n",
    "num_raw_news = len(os.listdir(path_news_folder))\n",
    "for i in range(num_raw_news-1):\n",
    "    tem_path = os.path.join(path_news_folder,'day_'+str(i)+'.pkl')\n",
    "    with open(tem_path, 'rb') as f:\n",
    "        hl_matrix = pickle.load(f)\n",
    "        hl_matrix = np.squeeze(hl_matrix)\n",
    "        hl_matrixs.append(hl_matrix)"
   ]
  },
  {
   "cell_type": "code",
   "execution_count": 17,
   "metadata": {},
   "outputs": [
    {
     "name": "stdout",
     "output_type": "stream",
     "text": [
      "11\n"
     ]
    }
   ],
   "source": [
    "import numpy as np\n",
    "from sklearn.metrics.pairwise import cosine_similarity\n",
    "from sklearn.metrics.pairwise import cosine_distances\n",
    "\n",
    "from sklearn.cluster import AffinityPropagation\n",
    "\n",
    "embedding_distance = cosine_distances(hl_matrixs[4])\n",
    "af = AffinityPropagation(affinity='precomputed').fit(embedding_distance)\n",
    "cluster_centers_indices = af.cluster_centers_indices_\n",
    "labels = af.labels_\n",
    "n_clusters_ = len(cluster_centers_indices)\n",
    "print(n_clusters_)"
   ]
  },
  {
   "cell_type": "code",
   "execution_count": 79,
   "metadata": {},
   "outputs": [
    {
     "name": "stderr",
     "output_type": "stream",
     "text": [
      "/home/sam/miniconda3/envs/openai/lib/python3.10/site-packages/sklearn/manifold/_spectral_embedding.py:393: UserWarning: Exited at iteration 112 with accuracies \n",
      "[9.72789290e-16 2.38726233e-06 2.88389435e-06 3.78964961e-06\n",
      " 3.70080983e-06 3.82690251e-06 4.24090315e-06 3.36934790e-06\n",
      " 7.21373252e-06 8.55379134e-06 4.65132476e-06]\n",
      "not reaching the requested tolerance 5.424022674560547e-06.\n",
      "Use iteration 112 instead with accuracy \n",
      "4.056147116814352e-06.\n",
      "\n",
      "  _, diffusion_map = lobpcg(\n",
      "/home/sam/miniconda3/envs/openai/lib/python3.10/site-packages/sklearn/manifold/_spectral_embedding.py:393: UserWarning: Exited postprocessing with accuracies \n",
      "[9.68470093e-16 2.38726246e-06 2.88389437e-06 3.78964953e-06\n",
      " 3.70081003e-06 3.82690220e-06 4.24090298e-06 3.36934820e-06\n",
      " 7.21373255e-06 8.55379125e-06 4.65132487e-06]\n",
      "not reaching the requested tolerance 5.424022674560547e-06.\n",
      "  _, diffusion_map = lobpcg(\n"
     ]
    }
   ],
   "source": [
    "\n",
    "embedding_distance = cosine_distances(hl_matrixs[1])\n",
    "sc = SpectralClustering(10, affinity='precomputed', n_init=100,\n",
    "                     assign_labels='discretize')\n",
    "labels = sc.fit_predict(embedding_distance)  "
   ]
  },
  {
   "cell_type": "code",
   "execution_count": 96,
   "metadata": {},
   "outputs": [],
   "source": [
    "import numpy as np\n",
    "from sklearn.metrics.pairwise import cosine_similarity\n",
    "from sklearn.cluster import SpectralClustering\n",
    "from sklearn.cluster import DBSCAN\n",
    "\n",
    "def twoD_scale(v,axis = 0):\n",
    "    '''\n",
    "    scipykit scaler doesn't support 3D array\n",
    "    '''\n",
    "    if axis == 1:\n",
    "        return (v - v.min(axis=1)[:, np.newaxis])/(v.max(axis=1)[:, np.newaxis] - v.min(axis=1)[:, np.newaxis]+0.001)\n",
    "    else:\n",
    "        return (v - v.min(axis=0))/(v.max(axis=0) - v.min(axis=0)+0.001)\n",
    "\n",
    "def graph_builder(news_embedding,company_embedding,number_cluster = 10):\n",
    "    \n",
    "    embedding_distance = cosine_distances(news_embedding)\n",
    "    sc = SpectralClustering(number_cluster, affinity='precomputed', n_init=100,\n",
    "                        assign_labels='discretize')\n",
    "    labels = sc.fit_predict(embedding_distance)\n",
    "    news_stock_siminarity = np.zeros([number_cluster,len(company_embedding)])\n",
    "    for i,j in enumerate(labels):\n",
    "        news_stock_siminarity[j] = news_stock_siminarity[j]+ cosine_similarity(news_embedding[i,None],company_embedding)\n",
    "    \n",
    "    rst = twoD_scale(news_stock_siminarity,axis=1)\n",
    "    # rst = rst*(rst>0.5)\n",
    "    connections = [np.where(row>0.8)[0] for row in rst]\n",
    "    return connections #np.transpose(rst,(0,2,1))"
   ]
  },
  {
   "cell_type": "code",
   "execution_count": 101,
   "metadata": {},
   "outputs": [
    {
     "name": "stderr",
     "output_type": "stream",
     "text": [
      "/home/sam/miniconda3/envs/torch-cuda/lib/python3.9/site-packages/sklearn/manifold/_spectral_embedding.py:393: UserWarning: Exited at iteration 100 with accuracies \n",
      "[1.10247451e-15 1.29886247e-06 2.11598616e-06 2.11457015e-06\n",
      " 1.92425325e-06 3.79235034e-06 6.89332354e-06 3.61743749e-06\n",
      " 5.10604964e-06 3.72235066e-06 2.83255625e-06]\n",
      "not reaching the requested tolerance 4.112720489501953e-06.\n",
      "Use iteration 100 instead with accuracy \n",
      "3.0379763580898193e-06.\n",
      "\n",
      "  _, diffusion_map = lobpcg(\n",
      "/home/sam/miniconda3/envs/torch-cuda/lib/python3.9/site-packages/sklearn/manifold/_spectral_embedding.py:393: UserWarning: Exited postprocessing with accuracies \n",
      "[1.10102458e-15 1.29886233e-06 2.11598615e-06 2.11457006e-06\n",
      " 1.92425338e-06 3.79234975e-06 6.89332382e-06 3.61743748e-06\n",
      " 5.10604986e-06 3.72235047e-06 2.83255625e-06]\n",
      "not reaching the requested tolerance 4.112720489501953e-06.\n",
      "  _, diffusion_map = lobpcg(\n"
     ]
    }
   ],
   "source": [
    "rst = graph_builder(hl_matrixs[0],company_matrix)"
   ]
  },
  {
   "cell_type": "code",
   "execution_count": 281,
   "metadata": {},
   "outputs": [
    {
     "name": "stderr",
     "output_type": "stream",
     "text": [
      "  0%|          | 0/10 [00:00<?, ?it/s]/home/sam/miniconda3/envs/torch-cuda/lib/python3.9/site-packages/sklearn/manifold/_spectral_embedding.py:393: UserWarning: Exited at iteration 120 with accuracies \n",
      "[9.55071616e-16 1.31014146e-06 1.66135988e-06 1.87300568e-06\n",
      " 2.60975717e-06 3.04080625e-06 2.24119548e-06 2.93540616e-06\n",
      " 2.61647469e-06 4.97929014e-06 2.83753544e-06]\n",
      "not reaching the requested tolerance 4.112720489501953e-06.\n",
      "Use iteration 120 instead with accuracy \n",
      "2.373179304407358e-06.\n",
      "\n",
      "  _, diffusion_map = lobpcg(\n",
      "/home/sam/miniconda3/envs/torch-cuda/lib/python3.9/site-packages/sklearn/manifold/_spectral_embedding.py:393: UserWarning: Exited postprocessing with accuracies \n",
      "[9.65424323e-16 1.31014163e-06 1.66136012e-06 1.87300527e-06\n",
      " 2.60975752e-06 3.04080580e-06 2.24119594e-06 2.93540622e-06\n",
      " 2.61647448e-06 4.97928972e-06 2.83753614e-06]\n",
      "not reaching the requested tolerance 4.112720489501953e-06.\n",
      "  _, diffusion_map = lobpcg(\n",
      " 10%|█         | 1/10 [00:01<00:14,  1.57s/it]/home/sam/miniconda3/envs/torch-cuda/lib/python3.9/site-packages/sklearn/manifold/_spectral_embedding.py:393: UserWarning: Exited at iteration 97 with accuracies \n",
      "[9.69074152e-16 3.09243179e-06 2.91596495e-06 3.16650753e-06\n",
      " 4.24924049e-06 4.52651247e-06 4.09228655e-06 5.07005158e-06\n",
      " 4.21038966e-06 6.70559628e-06 5.38736866e-06]\n",
      "not reaching the requested tolerance 5.424022674560547e-06.\n",
      "Use iteration 97 instead with accuracy \n",
      "3.946940905111304e-06.\n",
      "\n",
      "  _, diffusion_map = lobpcg(\n",
      "/home/sam/miniconda3/envs/torch-cuda/lib/python3.9/site-packages/sklearn/manifold/_spectral_embedding.py:393: UserWarning: Exited postprocessing with accuracies \n",
      "[1.00180813e-15 3.09243188e-06 2.91596500e-06 3.16650724e-06\n",
      " 4.24923981e-06 4.52651347e-06 4.09228655e-06 5.07005213e-06\n",
      " 4.21038903e-06 6.70559625e-06 5.38736845e-06]\n",
      "not reaching the requested tolerance 5.424022674560547e-06.\n",
      "  _, diffusion_map = lobpcg(\n",
      " 20%|██        | 2/10 [00:03<00:15,  1.94s/it]/home/sam/miniconda3/envs/torch-cuda/lib/python3.9/site-packages/sklearn/manifold/_spectral_embedding.py:393: UserWarning: Exited at iteration 118 with accuracies \n",
      "[1.02084397e-15 2.53166833e-06 2.74569969e-06 2.62474489e-06\n",
      " 3.06330359e-06 3.53445283e-06 4.39318442e-06 5.69149165e-06\n",
      " 3.92047624e-06 4.75826113e-06 4.83067650e-06]\n",
      "not reaching the requested tolerance 5.334615707397461e-06.\n",
      "Use iteration 118 instead with accuracy \n",
      "3.463087206395825e-06.\n",
      "\n",
      "  _, diffusion_map = lobpcg(\n",
      "/home/sam/miniconda3/envs/torch-cuda/lib/python3.9/site-packages/sklearn/manifold/_spectral_embedding.py:393: UserWarning: Exited postprocessing with accuracies \n",
      "[1.02952851e-15 2.53166858e-06 2.74569942e-06 2.62474520e-06\n",
      " 3.06330350e-06 3.53445302e-06 4.39318432e-06 5.69149174e-06\n",
      " 3.92047586e-06 4.75826121e-06 4.83067649e-06]\n",
      "not reaching the requested tolerance 5.334615707397461e-06.\n",
      "  _, diffusion_map = lobpcg(\n",
      " 30%|███       | 3/10 [00:05<00:13,  1.95s/it]/home/sam/miniconda3/envs/torch-cuda/lib/python3.9/site-packages/sklearn/manifold/_spectral_embedding.py:393: UserWarning: Exited at iteration 113 with accuracies \n",
      "[1.02226448e-15 2.27766169e-06 2.91033162e-06 3.00534534e-06\n",
      " 3.64267094e-06 4.29071860e-06 3.41040532e-06 6.04992473e-06\n",
      " 3.78324942e-06 3.59886082e-06 5.05840390e-06]\n",
      "not reaching the requested tolerance 5.200505256652832e-06.\n",
      "Use iteration 113 instead with accuracy \n",
      "3.4570520370089996e-06.\n",
      "\n",
      "  _, diffusion_map = lobpcg(\n",
      "/home/sam/miniconda3/envs/torch-cuda/lib/python3.9/site-packages/sklearn/manifold/_spectral_embedding.py:393: UserWarning: Exited postprocessing with accuracies \n",
      "[1.03096469e-15 2.27766168e-06 2.91033159e-06 3.00534518e-06\n",
      " 3.64267067e-06 4.29071865e-06 3.41040541e-06 6.04992502e-06\n",
      " 3.78324943e-06 3.59886080e-06 5.05840379e-06]\n",
      "not reaching the requested tolerance 5.200505256652832e-06.\n",
      "  _, diffusion_map = lobpcg(\n",
      " 40%|████      | 4/10 [00:07<00:11,  1.99s/it]/home/sam/miniconda3/envs/torch-cuda/lib/python3.9/site-packages/sklearn/manifold/_spectral_embedding.py:393: UserWarning: Exited at iteration 96 with accuracies \n",
      "[1.13426878e-15 6.66633951e-06 6.16856439e-06 9.64119416e-06\n",
      " 8.78220471e-06 8.24786187e-06 7.64912788e-06 9.08719723e-06\n",
      " 8.11155971e-06 1.14638227e-05 9.23361799e-06]\n",
      "not reaching the requested tolerance 1.017749309539795e-05.\n",
      "Use iteration 94 instead with accuracy \n",
      "7.681777931706659e-06.\n",
      "\n",
      "  _, diffusion_map = lobpcg(\n",
      "/home/sam/miniconda3/envs/torch-cuda/lib/python3.9/site-packages/sklearn/manifold/_spectral_embedding.py:393: UserWarning: Exited postprocessing with accuracies \n",
      "[1.18285593e-15 6.59948161e-06 6.22115302e-06 9.77683662e-06\n",
      " 8.66069166e-06 8.25221685e-06 7.64429266e-06 9.15134465e-06\n",
      " 8.15185226e-06 9.03119415e-06 1.10104940e-05]\n",
      "not reaching the requested tolerance 1.017749309539795e-05.\n",
      "  _, diffusion_map = lobpcg(\n",
      " 50%|█████     | 5/10 [00:18<00:25,  5.19s/it]/home/sam/miniconda3/envs/torch-cuda/lib/python3.9/site-packages/sklearn/manifold/_spectral_embedding.py:393: UserWarning: Exited at iteration 143 with accuracies \n",
      "[5.23661809e-15 3.00781064e-06 3.61264023e-06 4.83076623e-06\n",
      " 4.36644742e-06 6.84793032e-06 5.86818770e-06 5.93366935e-06\n",
      " 4.38919958e-06 4.32693739e-06 5.36139856e-06]\n",
      "not reaching the requested tolerance 5.707144737243652e-06.\n",
      "Use iteration 143 instead with accuracy \n",
      "4.4131806749251314e-06.\n",
      "\n",
      "  _, diffusion_map = lobpcg(\n",
      "/home/sam/miniconda3/envs/torch-cuda/lib/python3.9/site-packages/sklearn/manifold/_spectral_embedding.py:393: UserWarning: Exited postprocessing with accuracies \n",
      "[4.83655316e-15 3.00769263e-06 3.61279246e-06 4.83121695e-06\n",
      " 4.36668378e-06 6.84871636e-06 5.86717044e-06 5.93499579e-06\n",
      " 4.38935719e-06 4.32216293e-06 5.36312645e-06]\n",
      "not reaching the requested tolerance 5.707144737243652e-06.\n",
      "  _, diffusion_map = lobpcg(\n",
      " 70%|███████   | 7/10 [00:22<00:10,  3.45s/it]/home/sam/miniconda3/envs/torch-cuda/lib/python3.9/site-packages/sklearn/manifold/_spectral_embedding.py:393: UserWarning: Exited at iteration 104 with accuracies \n",
      "[9.73119915e-16 3.47589022e-06 4.08692397e-06 3.81554992e-06\n",
      " 5.68096977e-06 3.91857573e-06 6.30436425e-06 4.26783741e-06\n",
      " 5.11108973e-06 5.54778426e-06 5.84198230e-06]\n",
      "not reaching the requested tolerance 6.079673767089844e-06.\n",
      "Use iteration 104 instead with accuracy \n",
      "4.368269777423165e-06.\n",
      "\n",
      "  _, diffusion_map = lobpcg(\n",
      "/home/sam/miniconda3/envs/torch-cuda/lib/python3.9/site-packages/sklearn/manifold/_spectral_embedding.py:393: UserWarning: Exited postprocessing with accuracies \n",
      "[9.77441843e-16 3.47589008e-06 4.08692296e-06 3.81555095e-06\n",
      " 5.68096991e-06 3.91857588e-06 6.30436389e-06 4.26783601e-06\n",
      " 5.11109109e-06 5.54778435e-06 5.84198231e-06]\n",
      "not reaching the requested tolerance 6.079673767089844e-06.\n",
      "  _, diffusion_map = lobpcg(\n",
      " 80%|████████  | 8/10 [00:25<00:06,  3.21s/it]/home/sam/miniconda3/envs/torch-cuda/lib/python3.9/site-packages/sklearn/manifold/_spectral_embedding.py:393: UserWarning: Exited at iteration 117 with accuracies \n",
      "[1.02499414e-15 5.74916379e-06 6.85556112e-06 7.21029090e-06\n",
      " 7.22173136e-06 6.81699625e-06 5.19499769e-06 9.09284779e-06\n",
      " 6.09465024e-06 6.72029717e-06 8.46330419e-06]\n",
      "not reaching the requested tolerance 8.508563041687012e-06.\n",
      "Use iteration 117 instead with accuracy \n",
      "6.310894591753047e-06.\n",
      "\n",
      "  _, diffusion_map = lobpcg(\n",
      "/home/sam/miniconda3/envs/torch-cuda/lib/python3.9/site-packages/sklearn/manifold/_spectral_embedding.py:393: UserWarning: Exited postprocessing with accuracies \n",
      "[1.09679001e-15 5.74916382e-06 6.85556116e-06 7.21029081e-06\n",
      " 7.22173132e-06 6.81699615e-06 5.19499793e-06 9.09284785e-06\n",
      " 6.09465040e-06 6.72029704e-06 8.46330410e-06]\n",
      "not reaching the requested tolerance 8.508563041687012e-06.\n",
      "  _, diffusion_map = lobpcg(\n",
      " 90%|█████████ | 9/10 [00:32<00:04,  4.57s/it]/home/sam/miniconda3/envs/torch-cuda/lib/python3.9/site-packages/sklearn/manifold/_spectral_embedding.py:393: UserWarning: Exited at iteration 128 with accuracies \n",
      "[4.79589897e-15 2.94210534e-06 3.49986657e-06 3.54973471e-06\n",
      " 4.54002319e-06 4.40072017e-06 4.61177773e-06 5.30443812e-06\n",
      " 7.12080946e-06 5.76679951e-06 5.98813686e-06]\n",
      "not reaching the requested tolerance 6.079673767089844e-06.\n",
      "Use iteration 127 instead with accuracy \n",
      "4.308747275116817e-06.\n",
      "\n",
      "  _, diffusion_map = lobpcg(\n",
      "/home/sam/miniconda3/envs/torch-cuda/lib/python3.9/site-packages/sklearn/manifold/_spectral_embedding.py:393: UserWarning: Exited postprocessing with accuracies \n",
      "[4.67270661e-15 2.94731863e-06 3.43541118e-06 3.57050664e-06\n",
      " 4.53776042e-06 4.40822166e-06 4.60912294e-06 5.28058014e-06\n",
      " 6.66463058e-06 5.83709121e-06 6.10561225e-06]\n",
      "not reaching the requested tolerance 6.079673767089844e-06.\n",
      "  _, diffusion_map = lobpcg(\n",
      "100%|██████████| 10/10 [00:34<00:00,  3.49s/it]\n"
     ]
    }
   ],
   "source": [
    "from tqdm import tqdm\n",
    "\n",
    "our_format_per_day = [ graph_builder(hl_matrix,company_matrix) for hl_matrix in tqdm(hl_matrixs[:10])]\n",
    "\n",
    "m = company_matrix.shape[0]\n",
    "\n",
    "\n",
    "edges = []\n",
    "A = [ [0 for j in range(m) ] for i in range(m)]\n",
    "\n",
    "for row in our_format_per_day[0]:\n",
    "    n = len(row)\n",
    "    # subgraph = []\n",
    "    for k in range(n):\n",
    "        i = row[k]\n",
    "        for j in row[k+1:]:\n",
    "            tem = i\n",
    "            if j<i:\n",
    "                tem = j\n",
    "                j = i\n",
    "                \n",
    "            if A[tem][j] == 1:\n",
    "                edges.append([tem,j])\n",
    "            A[tem][j]+=1\n",
    "    #         subgraph.append([i,j])\n",
    "    # subgraph = np.array(subgraph)\n",
    "    # subgraphs.append(subgraph)"
   ]
  },
  {
   "cell_type": "code",
   "execution_count": 282,
   "metadata": {},
   "outputs": [],
   "source": [
    "G = nx.path_graph(m)\n",
    "for s in subgraphs:\n",
    "    G.add_edges_from(edges)"
   ]
  },
  {
   "cell_type": "code",
   "execution_count": 283,
   "metadata": {},
   "outputs": [
    {
     "data": {
      "text/plain": [
       "146"
      ]
     },
     "execution_count": 283,
     "metadata": {},
     "output_type": "execute_result"
    }
   ],
   "source": [
    "len(G.edges)"
   ]
  },
  {
   "cell_type": "code",
   "execution_count": 140,
   "metadata": {},
   "outputs": [
    {
     "ename": "AttributeError",
     "evalue": "'list' object has no attribute 'ndim'",
     "output_type": "error",
     "traceback": [
      "\u001b[0;31m---------------------------------------------------------------------------\u001b[0m",
      "\u001b[0;31mAttributeError\u001b[0m                            Traceback (most recent call last)",
      "Cell \u001b[0;32mIn[140], line 1\u001b[0m\n\u001b[0;32m----> 1\u001b[0m G \u001b[39m=\u001b[39m nx\u001b[39m.\u001b[39;49mfrom_numpy_array(A)\n\u001b[1;32m      2\u001b[0m \u001b[39mprint\u001b[39m(\u001b[39m\"\u001b[39m\u001b[39mnum of edges:\u001b[39m\u001b[39m\"\u001b[39m, \u001b[39mlen\u001b[39m(G\u001b[39m.\u001b[39medges))\n",
      "File \u001b[0;32m~/miniconda3/envs/torch-cuda/lib/python3.9/site-packages/networkx/convert_matrix.py:1100\u001b[0m, in \u001b[0;36mfrom_numpy_array\u001b[0;34m(A, parallel_edges, create_using)\u001b[0m\n\u001b[1;32m   1089\u001b[0m kind_to_python_type \u001b[39m=\u001b[39m {\n\u001b[1;32m   1090\u001b[0m     \u001b[39m\"\u001b[39m\u001b[39mf\u001b[39m\u001b[39m\"\u001b[39m: \u001b[39mfloat\u001b[39m,\n\u001b[1;32m   1091\u001b[0m     \u001b[39m\"\u001b[39m\u001b[39mi\u001b[39m\u001b[39m\"\u001b[39m: \u001b[39mint\u001b[39m,\n\u001b[0;32m   (...)\u001b[0m\n\u001b[1;32m   1097\u001b[0m     \u001b[39m\"\u001b[39m\u001b[39mV\u001b[39m\u001b[39m\"\u001b[39m: \u001b[39m\"\u001b[39m\u001b[39mvoid\u001b[39m\u001b[39m\"\u001b[39m,\n\u001b[1;32m   1098\u001b[0m }\n\u001b[1;32m   1099\u001b[0m G \u001b[39m=\u001b[39m nx\u001b[39m.\u001b[39mempty_graph(\u001b[39m0\u001b[39m, create_using)\n\u001b[0;32m-> 1100\u001b[0m \u001b[39mif\u001b[39;00m A\u001b[39m.\u001b[39;49mndim \u001b[39m!=\u001b[39m \u001b[39m2\u001b[39m:\n\u001b[1;32m   1101\u001b[0m     \u001b[39mraise\u001b[39;00m nx\u001b[39m.\u001b[39mNetworkXError(\u001b[39mf\u001b[39m\u001b[39m\"\u001b[39m\u001b[39mInput array must be 2D, not \u001b[39m\u001b[39m{\u001b[39;00mA\u001b[39m.\u001b[39mndim\u001b[39m}\u001b[39;00m\u001b[39m\"\u001b[39m)\n\u001b[1;32m   1102\u001b[0m n, m \u001b[39m=\u001b[39m A\u001b[39m.\u001b[39mshape\n",
      "\u001b[0;31mAttributeError\u001b[0m: 'list' object has no attribute 'ndim'"
     ]
    }
   ],
   "source": [
    "\n",
    "# G = nx.from_numpy_array(A)\n",
    "# print(\"num of edges:\", len(G.edges))"
   ]
  },
  {
   "cell_type": "code",
   "execution_count": 43,
   "metadata": {},
   "outputs": [],
   "source": [
    "# import networkx as nx\n",
    "# def read_graph(A):\n",
    "# \t'''\n",
    "# \tReads the input network in networkx.\n",
    "# \t'''\n",
    "# \tif len(our_format)==2:\n",
    "# \t\tlines = [str(x[0])+' '+str(x[1]) for x in zip(*our_format)]\n",
    "# \telse:\n",
    "# \t\tlines = [str(x[0])+' '+str(x[1]) for x in our_format]\n",
    "# \tG = nx.parse_edgelist(lines, nodetype=int)\n",
    "# \tfor edge in G.edges():\n",
    "# \t\tG[edge[0]][edge[1]]['weight'] = 1\n",
    "# \tG = G.to_undirected()\n",
    "\t\n",
    "# \treturn G"
   ]
  },
  {
   "cell_type": "code",
   "execution_count": 284,
   "metadata": {},
   "outputs": [],
   "source": [
    "import networkx as nx \n",
    "\n",
    "pos = nx.spring_layout(G, center=[0.5, 0.5])\n",
    "nx.set_node_attributes(G, pos, 'pos')"
   ]
  },
  {
   "cell_type": "code",
   "execution_count": 285,
   "metadata": {},
   "outputs": [],
   "source": [
    "from torch_geometric.nn import Node2Vec\n",
    "import torch\n",
    "import matplotlib.pyplot as plt\n",
    "from sklearn.manifold import TSNE\n",
    "from torch_geometric.datasets import Planetoid\n",
    "from tqdm.notebook import tqdm\n",
    "\n",
    "m = len(G.nodes)\n",
    "edges = G.edges\n",
    "\n",
    "device = 'cuda' if torch.cuda.is_available() else 'cpu'\n",
    "edges_tensor = torch.Tensor(list(zip(*edges))).to(dtype=torch.long)\n",
    "model = Node2Vec(edges_tensor, embedding_dim=128, \n",
    "                 walk_length=10,                        # lenght of rw\n",
    "                 context_size=8, walks_per_node=20,\n",
    "                 num_negative_samples=1, \n",
    "                 p=P, q=Q,                             # bias parameters\n",
    "                 sparse=True).to(device)\n"
   ]
  },
  {
   "cell_type": "code",
   "execution_count": 286,
   "metadata": {},
   "outputs": [
    {
     "name": "stdout",
     "output_type": "stream",
     "text": [
      "0 torch.Size([480, 8]) torch.Size([480, 8])\n",
      "1 torch.Size([480, 8]) torch.Size([480, 8])\n",
      "2 torch.Size([480, 8]) torch.Size([480, 8])\n",
      "3 torch.Size([480, 8]) torch.Size([480, 8])\n",
      "4 torch.Size([480, 8]) torch.Size([480, 8])\n",
      "5 torch.Size([480, 8]) torch.Size([480, 8])\n",
      "6 torch.Size([480, 8]) torch.Size([480, 8])\n",
      "7 torch.Size([480, 8]) torch.Size([480, 8])\n",
      "8 torch.Size([480, 8]) torch.Size([480, 8])\n",
      "9 torch.Size([480, 8]) torch.Size([480, 8])\n",
      "10 torch.Size([480, 8]) torch.Size([480, 8])\n",
      "11 torch.Size([480, 8]) torch.Size([480, 8])\n",
      "12 torch.Size([120, 8]) torch.Size([120, 8])\n"
     ]
    }
   ],
   "source": [
    "loader = model.loader(batch_size=8, shuffle=False, num_workers=4)\n",
    "#   num_node_in_batch (8) x walks_per_node\n",
    "for idx, (pos_rw, neg_rw) in enumerate(loader):\n",
    "    print(idx, pos_rw.shape, neg_rw.shape)"
   ]
  },
  {
   "cell_type": "code",
   "execution_count": 287,
   "metadata": {},
   "outputs": [
    {
     "data": {
      "image/png": "[encoded data removed]",
      "text/plain": [
       "<Figure size 2000x1000 with 1 Axes>"
      ]
     },
     "metadata": {},
     "output_type": "display_data"
    }
   ],
   "source": [
    "fig = plt.figure(figsize=(20, 10))\n",
    "ax = fig.add_subplot(1, 1, 1)\n",
    "nx.draw(G,\n",
    "        ax= ax,\n",
    "        pos=nx.get_node_attributes(G, 'pos'),\n",
    "        node_size=40,\n",
    "        alpha=0.3,\n",
    "        node_color='b',\n",
    "        edge_color='r')"
   ]
  },
  {
   "cell_type": "code",
   "execution_count": 264,
   "metadata": {},
   "outputs": [
    {
     "data": {
      "image/png": "[encoded data removed]",
      "text/plain": [
       "<Figure size 2000x1000 with 2 Axes>"
      ]
     },
     "metadata": {},
     "output_type": "display_data"
    }
   ],
   "source": [
    "fig = plt.figure(figsize=(20, 10))\n",
    "ax = fig.add_subplot(1, 2, 1)\n",
    "nx.draw_networkx_nodes(G,\n",
    "                       ax=ax,\n",
    "                       pos=nx.get_node_attributes(G, 'pos'),\n",
    "                       node_size=40,\n",
    "                       alpha=0.3,\n",
    "                       node_color='b')\n",
    "first_batch = list(loader)[0][0]\n",
    "for i in range(m):\n",
    "        nodelist = first_batch[i].tolist()\n",
    "        walk = nx.path_graph(len(nodelist))\n",
    "        nx.set_node_attributes(walk, {idx: pos[node_id] for idx, node_id in enumerate(nodelist)}, 'pos')\n",
    "\n",
    "\n",
    "        nx.draw(walk,\n",
    "                node_size=20,\n",
    "                node_color='r',\n",
    "                ax=ax,\n",
    "                pos=nx.get_node_attributes(walk, 'pos'),\n",
    "                width=2,\n",
    "                edge_color='r',alpha = 0.1)\n",
    "ax = fig.add_subplot(1, 2, 2)\n",
    "nx.draw(walk,\n",
    "        node_size=20,\n",
    "        node_color='r',\n",
    "        ax=ax,\n",
    "        pos=nx.get_node_attributes(walk, 'pos'),\n",
    "        width=2,\n",
    "        edge_color='r')"
   ]
  },
  {
   "cell_type": "code",
   "execution_count": 270,
   "metadata": {},
   "outputs": [
    {
     "name": "stdout",
     "output_type": "stream",
     "text": [
      "tensor([ 8,  9, 10, 11, 12, 13, 14, 15])\n",
      "tensor([ 9, 10, 11, 12, 13, 14, 15, 16])\n",
      "tensor([10, 11, 12, 13, 14, 15, 16, 44])\n",
      "tensor([11, 12, 13, 14, 15, 16, 41, 44])\n",
      "tensor([12, 13, 14, 15, 96, 97, 97, 97])\n",
      "tensor([13, 14, 15, 96, 97, 97, 97, 97])\n",
      "tensor([14, 15, 16, 44, 60, 61, 62, 63])\n",
      "tensor([15, 16, 44, 52, 60, 61, 62, 63])\n",
      "tensor([ 8,  9, 10, 11, 12, 13, 14, 15])\n",
      "tensor([ 9, 10, 11, 12, 13, 14, 15, 17])\n",
      "tensor([10, 11, 12, 13, 14, 15, 16, 17])\n",
      "tensor([11, 12, 13, 14, 15, 16, 17, 44])\n",
      "tensor([12, 13, 14, 15, 16, 17, 52, 53])\n",
      "tensor([13, 14, 15, 16, 44, 60, 61, 62])\n",
      "tensor([14, 15, 96, 97, 97, 97, 97, 97])\n",
      "tensor([15, 16, 17, 60, 61, 62, 63, 64])\n",
      "tensor([ 8,  9, 10, 11, 12, 13, 14, 15])\n",
      "tensor([ 9, 10, 11, 12, 13, 14, 15, 17])\n",
      "tensor([10, 11, 12, 13, 14, 15, 96, 97])\n",
      "tensor([11, 12, 13, 14, 15, 16, 91, 92])\n",
      "tensor([12, 13, 14, 15, 16, 41, 60, 61])\n",
      "tensor([13, 14, 15, 17, 52, 60, 61, 62])\n",
      "tensor([14, 15, 16, 91, 92, 93, 94, 95])\n",
      "tensor([15, 16, 17, 43, 44, 60, 61, 62])\n",
      "tensor([ 8,  9, 10, 11, 12, 13, 14, 15])\n",
      "tensor([ 9, 10, 11, 12, 13, 14, 15, 96])\n",
      "tensor([10, 11, 12, 13, 14, 15, 96, 97])\n",
      "tensor([11, 12, 13, 14, 15, 96, 97, 97])\n",
      "tensor([12, 13, 14, 15, 17, 18, 19, 20])\n",
      "tensor([13, 14, 15, 96, 97, 97, 97, 97])\n",
      "tensor([14, 15, 17, 96, 97, 97, 97, 97])\n",
      "tensor([15, 17, 44, 45, 46, 47, 48, 49])\n",
      "tensor([ 8,  9, 10, 11, 12, 13, 14, 15])\n",
      "tensor([ 9, 10, 11, 12, 13, 14, 15, 96])\n",
      "tensor([10, 11, 12, 13, 14, 15, 16, 41])\n",
      "tensor([11, 12, 13, 14, 15, 96, 97, 97])\n",
      "tensor([12, 13, 14, 15, 17, 18, 19, 20])\n",
      "tensor([13, 14, 15, 96, 97, 97, 97, 97])\n",
      "tensor([14, 15, 16, 91, 92, 93, 94, 95])\n",
      "tensor([15, 96, 97, 97, 97, 97, 97, 97])\n",
      "tensor([ 8,  9, 10, 11, 12, 13, 14, 15])\n",
      "tensor([ 9, 10, 11, 12, 13, 14, 15, 96])\n",
      "tensor([10, 11, 12, 13, 14, 15, 17, 43])\n",
      "tensor([11, 12, 13, 14, 15, 16, 17, 91])\n",
      "tensor([12, 13, 14, 15, 16, 17, 91, 92])\n",
      "tensor([13, 14, 15, 16, 41, 44, 45, 46])\n",
      "tensor([14, 15, 16, 41, 44, 60, 61, 62])\n",
      "tensor([15, 16, 44, 45, 46, 47, 48, 49])\n",
      "tensor([ 8,  9, 10, 11, 12, 13, 14, 15])\n",
      "tensor([ 9, 10, 11, 12, 13, 14, 15, 96])\n",
      "tensor([10, 11, 12, 13, 14, 15, 96, 97])\n",
      "tensor([11, 12, 13, 14, 15, 17, 52, 60])\n",
      "tensor([12, 13, 14, 15, 17, 60, 61, 62])\n",
      "tensor([13, 14, 15, 96, 97, 97, 97, 97])\n",
      "tensor([14, 15, 96, 97, 97, 97, 97, 97])\n",
      "tensor([15, 16, 44, 45, 46, 47, 48, 49])\n",
      "tensor([ 8,  9, 10, 11, 12, 13, 14, 15])\n",
      "tensor([ 9, 10, 11, 12, 13, 14, 15, 96])\n",
      "tensor([10, 11, 12, 13, 14, 15, 17, 41])\n",
      "tensor([11, 12, 13, 14, 15, 16, 41, 44])\n",
      "tensor([12, 13, 14, 15, 96, 97, 97, 97])\n",
      "tensor([13, 14, 15, 96, 97, 97, 97, 97])\n",
      "tensor([14, 15, 16, 44, 52, 53, 54, 55])\n",
      "tensor([15, 96, 97, 97, 97, 97, 97, 97])\n",
      "tensor([ 8,  9, 10, 11, 12, 13, 14, 15])\n",
      "tensor([ 9, 10, 11, 12, 13, 14, 15, 96])\n",
      "tensor([10, 11, 12, 13, 14, 15, 16, 91])\n",
      "tensor([11, 12, 13, 14, 15, 96, 97, 97])\n",
      "tensor([12, 13, 14, 15, 96, 97, 97, 97])\n",
      "tensor([13, 14, 15, 96, 97, 97, 97, 97])\n",
      "tensor([14, 15, 17, 44, 52, 60, 61, 62])\n",
      "tensor([15, 96, 97, 97, 97, 97, 97, 97])\n",
      "tensor([ 8,  9, 10, 11, 12, 13, 14, 15])\n",
      "tensor([ 9, 10, 11, 12, 13, 14, 15, 17])\n",
      "tensor([10, 11, 12, 13, 14, 15, 17, 43])\n",
      "tensor([11, 12, 13, 14, 15, 17, 18, 19])\n",
      "tensor([12, 13, 14, 15, 16, 41, 42, 43])\n",
      "tensor([13, 14, 15, 17, 96, 97, 97, 97])\n",
      "tensor([14, 15, 96, 97, 97, 97, 97, 97])\n",
      "tensor([15, 16, 91, 92, 93, 94, 95, 96])\n",
      "tensor([ 8,  9, 10, 11, 12, 13, 14, 15])\n",
      "tensor([ 9, 10, 11, 12, 13, 14, 15, 96])\n",
      "tensor([10, 11, 12, 13, 14, 15, 17, 41])\n",
      "tensor([11, 12, 13, 14, 15, 17, 60, 61])\n",
      "tensor([12, 13, 14, 15, 16, 41, 60, 61])\n",
      "tensor([13, 14, 15, 96, 97, 97, 97, 97])\n",
      "tensor([14, 15, 96, 97, 97, 97, 97, 97])\n",
      "tensor([15, 16, 91, 92, 93, 94, 95, 96])\n",
      "tensor([ 8,  9, 10, 11, 12, 13, 14, 15])\n",
      "tensor([ 9, 10, 11, 12, 13, 14, 15, 96])\n",
      "tensor([10, 11, 12, 13, 14, 15, 16, 91])\n",
      "tensor([11, 12, 13, 14, 15, 17, 96, 97])\n",
      "tensor([12, 13, 14, 15, 96, 97, 97, 97])\n",
      "tensor([13, 14, 15, 96, 97, 97, 97, 97])\n",
      "tensor([14, 15, 17, 52, 60, 61, 62, 63])\n",
      "tensor([15, 16, 91, 92, 93, 94, 95, 96])\n",
      "tensor([ 8,  9, 10, 11, 12, 13, 14, 15])\n",
      "tensor([ 9, 10, 11, 12, 13, 14, 15, 16])\n",
      "tensor([10, 11, 12, 13, 14, 15, 96, 97])\n",
      "tensor([11, 12, 13, 14, 15, 16, 91, 92])\n",
      "tensor([12, 13, 14, 15, 16, 41, 42, 43])\n",
      "tensor([13, 14, 15, 17, 91, 92, 93, 94])\n",
      "tensor([14, 15, 96, 97, 97, 97, 97, 97])\n",
      "tensor([15, 17, 52, 53, 54, 55, 56, 57])\n",
      "tensor([ 8,  9, 10, 11, 12, 13, 14, 15])\n",
      "tensor([ 9, 10, 11, 12, 13, 14, 15, 16])\n",
      "tensor([10, 11, 12, 13, 14, 15, 16, 41])\n",
      "tensor([11, 12, 13, 14, 15, 96, 97, 97])\n",
      "tensor([12, 13, 14, 15, 16, 41, 60, 61])\n",
      "tensor([13, 14, 15, 96, 97, 97, 97, 97])\n",
      "tensor([14, 15, 17, 91, 92, 93, 94, 95])\n",
      "tensor([15, 17, 18, 19, 20, 21, 22, 23])\n",
      "tensor([ 8,  9, 10, 11, 12, 13, 14, 15])\n",
      "tensor([ 9, 10, 11, 12, 13, 14, 15, 96])\n",
      "tensor([10, 11, 12, 13, 14, 15, 16, 44])\n",
      "tensor([11, 12, 13, 14, 15, 17, 60, 61])\n",
      "tensor([12, 13, 14, 15, 16, 91, 92, 93])\n",
      "tensor([13, 14, 15, 96, 97, 97, 97, 97])\n",
      "tensor([14, 15, 96, 97, 97, 97, 97, 97])\n",
      "tensor([15, 17, 60, 61, 62, 63, 64, 65])\n",
      "tensor([ 8,  9, 10, 11, 12, 13, 14, 15])\n",
      "tensor([ 9, 10, 11, 12, 13, 14, 15, 17])\n",
      "tensor([10, 11, 12, 13, 14, 15, 17, 91])\n",
      "tensor([11, 12, 13, 14, 15, 96, 97, 97])\n",
      "tensor([12, 13, 14, 15, 96, 97, 97, 97])\n",
      "tensor([13, 14, 15, 17, 96, 97, 97, 97])\n",
      "tensor([14, 15, 96, 97, 97, 97, 97, 97])\n",
      "tensor([15, 96, 97, 97, 97, 97, 97, 97])\n",
      "tensor([ 8,  9, 10, 11, 12, 13, 14, 15])\n",
      "tensor([ 9, 10, 11, 12, 13, 14, 15, 17])\n",
      "tensor([10, 11, 12, 13, 14, 15, 17, 52])\n",
      "tensor([11, 12, 13, 14, 15, 17, 41, 60])\n",
      "tensor([12, 13, 14, 15, 16, 91, 92, 93])\n",
      "tensor([13, 14, 15, 16, 91, 92, 93, 94])\n",
      "tensor([14, 15, 17, 41, 42, 43, 44, 45])\n",
      "tensor([15, 96, 97, 97, 97, 97, 97, 97])\n",
      "tensor([ 8,  9, 10, 11, 12, 13, 14, 15])\n",
      "tensor([ 9, 10, 11, 12, 13, 14, 15, 16])\n",
      "tensor([10, 11, 12, 13, 14, 15, 96, 97])\n",
      "tensor([11, 12, 13, 14, 15, 17, 91, 92])\n",
      "tensor([12, 13, 14, 15, 16, 41, 60, 61])\n",
      "tensor([13, 14, 15, 96, 97, 97, 97, 97])\n",
      "tensor([14, 15, 96, 97, 97, 97, 97, 97])\n",
      "tensor([15, 96, 97, 97, 97, 97, 97, 97])\n",
      "tensor([ 8,  9, 10, 11, 12, 13, 14, 15])\n",
      "tensor([ 9, 10, 11, 12, 13, 14, 15, 17])\n",
      "tensor([10, 11, 12, 13, 14, 15, 17, 43])\n",
      "tensor([11, 12, 13, 14, 15, 17, 43, 44])\n",
      "tensor([12, 13, 14, 15, 16, 41, 44, 52])\n",
      "tensor([13, 14, 15, 16, 41, 44, 52, 53])\n",
      "tensor([14, 15, 16, 91, 92, 93, 94, 95])\n",
      "tensor([15, 16, 91, 92, 93, 94, 95, 96])\n",
      "tensor([ 8,  9, 10, 11, 12, 13, 14, 15])\n",
      "tensor([ 9, 10, 11, 12, 13, 14, 15, 17])\n",
      "tensor([10, 11, 12, 13, 14, 15, 96, 97])\n",
      "tensor([11, 12, 13, 14, 15, 96, 97, 97])\n",
      "tensor([12, 13, 14, 15, 16, 44, 45, 46])\n",
      "tensor([13, 14, 15, 16, 17, 43, 44, 60])\n",
      "tensor([14, 15, 17, 91, 92, 93, 94, 95])\n",
      "tensor([15, 16, 41, 44, 52, 53, 54, 55])\n",
      "tensor([ 9, 10, 11, 12, 13, 14, 15, 17])\n",
      "tensor([10, 11, 12, 13, 14, 15, 16, 17])\n",
      "tensor([11, 12, 13, 14, 15, 16, 44, 52])\n",
      "tensor([12, 13, 14, 15, 16, 41, 44, 52])\n",
      "tensor([13, 14, 15, 96, 97, 97, 97, 97])\n",
      "tensor([14, 15, 96, 97, 97, 97, 97, 97])\n",
      "tensor([15, 16, 44, 60, 61, 62, 63, 64])\n",
      "tensor([16, 44, 52, 60, 61, 62, 63, 64])\n",
      "tensor([ 9, 10, 11, 12, 13, 14, 15, 16])\n",
      "tensor([10, 11, 12, 13, 14, 15, 17, 52])\n",
      "tensor([11, 12, 13, 14, 15, 16, 17, 91])\n",
      "tensor([12, 13, 14, 15, 16, 17, 44, 60])\n",
      "tensor([13, 14, 15, 16, 17, 52, 53, 54])\n",
      "tensor([14, 15, 16, 44, 60, 61, 62, 63])\n",
      "tensor([15, 96, 97, 97, 97, 97, 97, 97])\n",
      "tensor([16, 17, 60, 61, 62, 63, 64, 65])\n",
      "tensor([ 9, 10, 11, 12, 13, 14, 15, 17])\n",
      "tensor([10, 11, 12, 13, 14, 15, 17, 96])\n",
      "tensor([11, 12, 13, 14, 15, 96, 97, 97])\n",
      "tensor([12, 13, 14, 15, 16, 91, 92, 93])\n",
      "tensor([13, 14, 15, 16, 41, 60, 61, 62])\n",
      "tensor([14, 15, 17, 52, 60, 61, 62, 63])\n",
      "tensor([15, 16, 91, 92, 93, 94, 95, 96])\n",
      "tensor([16, 17, 43, 44, 60, 61, 62, 63])\n",
      "tensor([ 9, 10, 11, 12, 13, 14, 15, 96])\n",
      "tensor([10, 11, 12, 13, 14, 15, 96, 97])\n",
      "tensor([11, 12, 13, 14, 15, 96, 97, 97])\n",
      "tensor([12, 13, 14, 15, 96, 97, 97, 97])\n",
      "tensor([13, 14, 15, 17, 18, 19, 20, 21])\n",
      "tensor([14, 15, 96, 97, 97, 97, 97, 97])\n",
      "tensor([15, 17, 96, 97, 97, 97, 97, 97])\n",
      "tensor([17, 44, 45, 46, 47, 48, 49, 50])\n",
      "tensor([ 9, 10, 11, 12, 13, 14, 15, 17])\n",
      "tensor([10, 11, 12, 13, 14, 15, 96, 97])\n",
      "tensor([11, 12, 13, 14, 15, 16, 41, 44])\n",
      "tensor([12, 13, 14, 15, 96, 97, 97, 97])\n",
      "tensor([13, 14, 15, 17, 18, 19, 20, 21])\n",
      "tensor([14, 15, 96, 97, 97, 97, 97, 97])\n",
      "tensor([15, 16, 91, 92, 93, 94, 95, 96])\n",
      "tensor([96, 97, 97, 97, 97, 97, 97, 97])\n",
      "tensor([ 9, 10, 11, 12, 13, 14, 15, 96])\n",
      "tensor([10, 11, 12, 13, 14, 15, 96, 97])\n",
      "tensor([11, 12, 13, 14, 15, 17, 43, 44])\n",
      "tensor([12, 13, 14, 15, 16, 17, 91, 92])\n",
      "tensor([13, 14, 15, 16, 17, 91, 92, 93])\n",
      "tensor([14, 15, 16, 41, 44, 45, 46, 47])\n",
      "tensor([15, 16, 41, 44, 60, 61, 62, 63])\n",
      "tensor([16, 44, 45, 46, 47, 48, 49, 50])\n",
      "tensor([ 9, 10, 11, 12, 13, 14, 15, 96])\n",
      "tensor([10, 11, 12, 13, 14, 15, 96, 97])\n",
      "tensor([11, 12, 13, 14, 15, 96, 97, 97])\n",
      "tensor([12, 13, 14, 15, 17, 52, 60, 61])\n",
      "tensor([13, 14, 15, 17, 60, 61, 62, 63])\n",
      "tensor([14, 15, 96, 97, 97, 97, 97, 97])\n",
      "tensor([15, 96, 97, 97, 97, 97, 97, 97])\n",
      "tensor([16, 44, 45, 46, 47, 48, 49, 50])\n",
      "tensor([ 9, 10, 11, 12, 13, 14, 15, 17])\n",
      "tensor([10, 11, 12, 13, 14, 15, 96, 97])\n",
      "tensor([11, 12, 13, 14, 15, 17, 41, 60])\n",
      "tensor([12, 13, 14, 15, 16, 41, 44, 60])\n",
      "tensor([13, 14, 15, 96, 97, 97, 97, 97])\n",
      "tensor([14, 15, 96, 97, 97, 97, 97, 97])\n",
      "tensor([15, 16, 44, 52, 53, 54, 55, 56])\n",
      "tensor([96, 97, 97, 97, 97, 97, 97, 97])\n",
      "tensor([ 9, 10, 11, 12, 13, 14, 15, 17])\n",
      "tensor([10, 11, 12, 13, 14, 15, 96, 97])\n",
      "tensor([11, 12, 13, 14, 15, 16, 91, 92])\n",
      "tensor([12, 13, 14, 15, 96, 97, 97, 97])\n",
      "tensor([13, 14, 15, 96, 97, 97, 97, 97])\n",
      "tensor([14, 15, 96, 97, 97, 97, 97, 97])\n",
      "tensor([15, 17, 44, 52, 60, 61, 62, 63])\n",
      "tensor([96, 97, 97, 97, 97, 97, 97, 97])\n",
      "tensor([ 9, 10, 11, 12, 13, 14, 15, 17])\n",
      "tensor([10, 11, 12, 13, 14, 15, 17, 60])\n",
      "tensor([11, 12, 13, 14, 15, 17, 43, 44])\n",
      "tensor([12, 13, 14, 15, 17, 18, 19, 20])\n",
      "tensor([13, 14, 15, 16, 41, 42, 43, 44])\n",
      "tensor([14, 15, 17, 96, 97, 97, 97, 97])\n",
      "tensor([15, 96, 97, 97, 97, 97, 97, 97])\n",
      "tensor([16, 91, 92, 93, 94, 95, 96, 97])\n",
      "tensor([ 9, 10, 11, 12, 13, 14, 15, 16])\n",
      "tensor([10, 11, 12, 13, 14, 15, 96, 97])\n",
      "tensor([11, 12, 13, 14, 15, 17, 41, 44])\n",
      "tensor([12, 13, 14, 15, 17, 60, 61, 62])\n",
      "tensor([13, 14, 15, 16, 41, 60, 61, 62])\n",
      "tensor([14, 15, 96, 97, 97, 97, 97, 97])\n",
      "tensor([15, 96, 97, 97, 97, 97, 97, 97])\n",
      "tensor([16, 91, 92, 93, 94, 95, 96, 97])\n",
      "tensor([ 9, 10, 11, 12, 13, 14, 15, 96])\n",
      "tensor([10, 11, 12, 13, 14, 15, 96, 97])\n",
      "tensor([11, 12, 13, 14, 15, 16, 91, 92])\n",
      "tensor([12, 13, 14, 15, 17, 96, 97, 97])\n",
      "tensor([13, 14, 15, 96, 97, 97, 97, 97])\n",
      "tensor([14, 15, 96, 97, 97, 97, 97, 97])\n",
      "tensor([15, 17, 52, 60, 61, 62, 63, 64])\n",
      "tensor([16, 91, 92, 93, 94, 95, 96, 97])\n",
      "tensor([ 9, 10, 11, 12, 13, 14, 15, 96])\n",
      "tensor([10, 11, 12, 13, 14, 15, 16, 44])\n",
      "tensor([11, 12, 13, 14, 15, 96, 97, 97])\n",
      "tensor([12, 13, 14, 15, 16, 91, 92, 93])\n",
      "tensor([13, 14, 15, 16, 41, 42, 43, 44])\n",
      "tensor([14, 15, 17, 91, 92, 93, 94, 95])\n",
      "tensor([15, 96, 97, 97, 97, 97, 97, 97])\n",
      "tensor([17, 52, 53, 54, 55, 56, 57, 58])\n",
      "tensor([ 9, 10, 11, 12, 13, 14, 15, 96])\n",
      "tensor([10, 11, 12, 13, 14, 15, 16, 91])\n",
      "tensor([11, 12, 13, 14, 15, 16, 41, 44])\n",
      "tensor([12, 13, 14, 15, 96, 97, 97, 97])\n",
      "tensor([13, 14, 15, 16, 41, 60, 61, 62])\n",
      "tensor([14, 15, 96, 97, 97, 97, 97, 97])\n",
      "tensor([15, 17, 91, 92, 93, 94, 95, 96])\n",
      "tensor([17, 18, 19, 20, 21, 22, 23, 24])\n",
      "tensor([ 9, 10, 11, 12, 13, 14, 15, 17])\n",
      "tensor([10, 11, 12, 13, 14, 15, 96, 97])\n",
      "tensor([11, 12, 13, 14, 15, 16, 44, 60])\n",
      "tensor([12, 13, 14, 15, 17, 60, 61, 62])\n",
      "tensor([13, 14, 15, 16, 91, 92, 93, 94])\n",
      "tensor([14, 15, 96, 97, 97, 97, 97, 97])\n",
      "tensor([15, 96, 97, 97, 97, 97, 97, 97])\n",
      "tensor([17, 60, 61, 62, 63, 64, 65, 66])\n",
      "tensor([ 9, 10, 11, 12, 13, 14, 15, 17])\n",
      "tensor([10, 11, 12, 13, 14, 15, 17, 60])\n",
      "tensor([11, 12, 13, 14, 15, 17, 91, 92])\n",
      "tensor([12, 13, 14, 15, 96, 97, 97, 97])\n",
      "tensor([13, 14, 15, 96, 97, 97, 97, 97])\n",
      "tensor([14, 15, 17, 96, 97, 97, 97, 97])\n",
      "tensor([15, 96, 97, 97, 97, 97, 97, 97])\n",
      "tensor([96, 97, 97, 97, 97, 97, 97, 97])\n",
      "tensor([ 9, 10, 11, 12, 13, 14, 15, 96])\n",
      "tensor([10, 11, 12, 13, 14, 15, 17, 96])\n",
      "tensor([11, 12, 13, 14, 15, 17, 52, 60])\n",
      "tensor([12, 13, 14, 15, 17, 41, 60, 61])\n",
      "tensor([13, 14, 15, 16, 91, 92, 93, 94])\n",
      "tensor([14, 15, 16, 91, 92, 93, 94, 95])\n",
      "tensor([15, 17, 41, 42, 43, 44, 45, 46])\n",
      "tensor([96, 97, 97, 97, 97, 97, 97, 97])\n",
      "tensor([ 9, 10, 11, 12, 13, 14, 15, 16])\n",
      "tensor([10, 11, 12, 13, 14, 15, 16, 41])\n",
      "tensor([11, 12, 13, 14, 15, 96, 97, 97])\n",
      "tensor([12, 13, 14, 15, 17, 91, 92, 93])\n",
      "tensor([13, 14, 15, 16, 41, 60, 61, 62])\n",
      "tensor([14, 15, 96, 97, 97, 97, 97, 97])\n",
      "tensor([15, 96, 97, 97, 97, 97, 97, 97])\n",
      "tensor([96, 97, 97, 97, 97, 97, 97, 97])\n",
      "tensor([ 9, 10, 11, 12, 13, 14, 15, 96])\n",
      "tensor([10, 11, 12, 13, 14, 15, 17, 60])\n",
      "tensor([11, 12, 13, 14, 15, 17, 43, 44])\n",
      "tensor([12, 13, 14, 15, 17, 43, 44, 60])\n",
      "tensor([13, 14, 15, 16, 41, 44, 52, 60])\n",
      "tensor([14, 15, 16, 41, 44, 52, 53, 54])\n",
      "tensor([15, 16, 91, 92, 93, 94, 95, 96])\n",
      "tensor([16, 91, 92, 93, 94, 95, 96, 97])\n",
      "tensor([ 9, 10, 11, 12, 13, 14, 15, 17])\n",
      "tensor([10, 11, 12, 13, 14, 15, 17, 43])\n",
      "tensor([11, 12, 13, 14, 15, 96, 97, 97])\n",
      "tensor([12, 13, 14, 15, 96, 97, 97, 97])\n",
      "tensor([13, 14, 15, 16, 44, 45, 46, 47])\n",
      "tensor([14, 15, 16, 17, 43, 44, 60, 61])\n",
      "tensor([15, 17, 91, 92, 93, 94, 95, 96])\n",
      "tensor([16, 41, 44, 52, 53, 54, 55, 56])\n",
      "tensor([10, 11, 12, 13, 14, 15, 17, 44])\n",
      "tensor([11, 12, 13, 14, 15, 16, 17, 44])\n",
      "tensor([12, 13, 14, 15, 16, 44, 52, 60])\n",
      "tensor([13, 14, 15, 16, 41, 44, 52, 60])\n",
      "tensor([14, 15, 96, 97, 97, 97, 97, 97])\n",
      "tensor([15, 96, 97, 97, 97, 97, 97, 97])\n",
      "tensor([16, 44, 60, 61, 62, 63, 64, 65])\n",
      "tensor([44, 52, 60, 61, 62, 63, 64, 65])\n",
      "tensor([10, 11, 12, 13, 14, 15, 16, 41])\n",
      "tensor([11, 12, 13, 14, 15, 17, 52, 53])\n",
      "tensor([12, 13, 14, 15, 16, 17, 91, 92])\n",
      "tensor([13, 14, 15, 16, 17, 44, 60, 61])\n",
      "tensor([14, 15, 16, 17, 52, 53, 54, 55])\n",
      "tensor([15, 16, 44, 60, 61, 62, 63, 64])\n",
      "tensor([96, 97, 97, 97, 97, 97, 97, 97])\n",
      "tensor([17, 60, 61, 62, 63, 64, 65, 66])\n",
      "tensor([10, 11, 12, 13, 14, 15, 17, 41])\n",
      "tensor([11, 12, 13, 14, 15, 17, 96, 97])\n",
      "tensor([12, 13, 14, 15, 96, 97, 97, 97])\n",
      "tensor([13, 14, 15, 16, 91, 92, 93, 94])\n",
      "tensor([14, 15, 16, 41, 60, 61, 62, 63])\n",
      "tensor([15, 17, 52, 60, 61, 62, 63, 64])\n",
      "tensor([16, 91, 92, 93, 94, 95, 96, 97])\n",
      "tensor([17, 43, 44, 60, 61, 62, 63, 64])\n",
      "tensor([10, 11, 12, 13, 14, 15, 96, 97])\n",
      "tensor([11, 12, 13, 14, 15, 96, 97, 97])\n",
      "tensor([12, 13, 14, 15, 96, 97, 97, 97])\n",
      "tensor([13, 14, 15, 96, 97, 97, 97, 97])\n",
      "tensor([14, 15, 17, 18, 19, 20, 21, 22])\n",
      "tensor([15, 96, 97, 97, 97, 97, 97, 97])\n",
      "tensor([17, 96, 97, 97, 97, 97, 97, 97])\n",
      "tensor([44, 45, 46, 47, 48, 49, 50, 51])\n",
      "tensor([10, 11, 12, 13, 14, 15, 17, 60])\n",
      "tensor([11, 12, 13, 14, 15, 96, 97, 97])\n",
      "tensor([12, 13, 14, 15, 16, 41, 44, 52])\n",
      "tensor([13, 14, 15, 96, 97, 97, 97, 97])\n",
      "tensor([14, 15, 17, 18, 19, 20, 21, 22])\n",
      "tensor([15, 96, 97, 97, 97, 97, 97, 97])\n",
      "tensor([16, 91, 92, 93, 94, 95, 96, 97])\n",
      "tensor([97, 97, 97, 97, 97, 97, 97, 97])\n",
      "tensor([10, 11, 12, 13, 14, 15, 96, 97])\n",
      "tensor([11, 12, 13, 14, 15, 96, 97, 97])\n",
      "tensor([12, 13, 14, 15, 17, 43, 44, 60])\n",
      "tensor([13, 14, 15, 16, 17, 91, 92, 93])\n",
      "tensor([14, 15, 16, 17, 91, 92, 93, 94])\n",
      "tensor([15, 16, 41, 44, 45, 46, 47, 48])\n",
      "tensor([16, 41, 44, 60, 61, 62, 63, 64])\n",
      "tensor([44, 45, 46, 47, 48, 49, 50, 51])\n",
      "tensor([10, 11, 12, 13, 14, 15, 96, 97])\n",
      "tensor([11, 12, 13, 14, 15, 96, 97, 97])\n",
      "tensor([12, 13, 14, 15, 96, 97, 97, 97])\n",
      "tensor([13, 14, 15, 17, 52, 60, 61, 62])\n",
      "tensor([14, 15, 17, 60, 61, 62, 63, 64])\n",
      "tensor([15, 96, 97, 97, 97, 97, 97, 97])\n",
      "tensor([96, 97, 97, 97, 97, 97, 97, 97])\n",
      "tensor([44, 45, 46, 47, 48, 49, 50, 51])\n",
      "tensor([10, 11, 12, 13, 14, 15, 17, 52])\n",
      "tensor([11, 12, 13, 14, 15, 96, 97, 97])\n",
      "tensor([12, 13, 14, 15, 17, 41, 60, 61])\n",
      "tensor([13, 14, 15, 16, 41, 44, 60, 61])\n",
      "tensor([14, 15, 96, 97, 97, 97, 97, 97])\n",
      "tensor([15, 96, 97, 97, 97, 97, 97, 97])\n",
      "tensor([16, 44, 52, 53, 54, 55, 56, 57])\n",
      "tensor([97, 97, 97, 97, 97, 97, 97, 97])\n",
      "tensor([10, 11, 12, 13, 14, 15, 17, 52])\n",
      "tensor([11, 12, 13, 14, 15, 96, 97, 97])\n",
      "tensor([12, 13, 14, 15, 16, 91, 92, 93])\n",
      "tensor([13, 14, 15, 96, 97, 97, 97, 97])\n",
      "tensor([14, 15, 96, 97, 97, 97, 97, 97])\n",
      "tensor([15, 96, 97, 97, 97, 97, 97, 97])\n",
      "tensor([17, 44, 52, 60, 61, 62, 63, 64])\n",
      "tensor([97, 97, 97, 97, 97, 97, 97, 97])\n",
      "tensor([10, 11, 12, 13, 14, 15, 17, 91])\n",
      "tensor([11, 12, 13, 14, 15, 17, 60, 61])\n",
      "tensor([12, 13, 14, 15, 17, 43, 44, 45])\n",
      "tensor([13, 14, 15, 17, 18, 19, 20, 21])\n",
      "tensor([14, 15, 16, 41, 42, 43, 44, 45])\n",
      "tensor([15, 17, 96, 97, 97, 97, 97, 97])\n",
      "tensor([96, 97, 97, 97, 97, 97, 97, 97])\n",
      "tensor([91, 92, 93, 94, 95, 96, 97, 97])\n",
      "tensor([10, 11, 12, 13, 14, 15, 16, 44])\n",
      "tensor([11, 12, 13, 14, 15, 96, 97, 97])\n",
      "tensor([12, 13, 14, 15, 17, 41, 44, 45])\n",
      "tensor([13, 14, 15, 17, 60, 61, 62, 63])\n",
      "tensor([14, 15, 16, 41, 60, 61, 62, 63])\n",
      "tensor([15, 96, 97, 97, 97, 97, 97, 97])\n",
      "tensor([96, 97, 97, 97, 97, 97, 97, 97])\n",
      "tensor([91, 92, 93, 94, 95, 96, 97, 97])\n",
      "tensor([10, 11, 12, 13, 14, 15, 96, 97])\n",
      "tensor([11, 12, 13, 14, 15, 96, 97, 97])\n",
      "tensor([12, 13, 14, 15, 16, 91, 92, 93])\n",
      "tensor([13, 14, 15, 17, 96, 97, 97, 97])\n",
      "tensor([14, 15, 96, 97, 97, 97, 97, 97])\n",
      "tensor([15, 96, 97, 97, 97, 97, 97, 97])\n",
      "tensor([17, 52, 60, 61, 62, 63, 64, 65])\n",
      "tensor([91, 92, 93, 94, 95, 96, 97, 97])\n",
      "tensor([10, 11, 12, 13, 14, 15, 96, 97])\n",
      "tensor([11, 12, 13, 14, 15, 16, 44, 45])\n",
      "tensor([12, 13, 14, 15, 96, 97, 97, 97])\n",
      "tensor([13, 14, 15, 16, 91, 92, 93, 94])\n",
      "tensor([14, 15, 16, 41, 42, 43, 44, 45])\n",
      "tensor([15, 17, 91, 92, 93, 94, 95, 96])\n",
      "tensor([96, 97, 97, 97, 97, 97, 97, 97])\n",
      "tensor([52, 53, 54, 55, 56, 57, 58, 59])\n",
      "tensor([10, 11, 12, 13, 14, 15, 96, 97])\n",
      "tensor([11, 12, 13, 14, 15, 16, 91, 92])\n",
      "tensor([12, 13, 14, 15, 16, 41, 44, 52])\n",
      "tensor([13, 14, 15, 96, 97, 97, 97, 97])\n",
      "tensor([14, 15, 16, 41, 60, 61, 62, 63])\n",
      "tensor([15, 96, 97, 97, 97, 97, 97, 97])\n",
      "tensor([17, 91, 92, 93, 94, 95, 96, 97])\n",
      "tensor([18, 19, 20, 21, 22, 23, 24, 25])\n",
      "tensor([10, 11, 12, 13, 14, 15, 17, 60])\n",
      "tensor([11, 12, 13, 14, 15, 96, 97, 97])\n",
      "tensor([12, 13, 14, 15, 16, 44, 60, 61])\n",
      "tensor([13, 14, 15, 17, 60, 61, 62, 63])\n",
      "tensor([14, 15, 16, 91, 92, 93, 94, 95])\n",
      "tensor([15, 96, 97, 97, 97, 97, 97, 97])\n",
      "tensor([96, 97, 97, 97, 97, 97, 97, 97])\n",
      "tensor([60, 61, 62, 63, 64, 65, 66, 67])\n",
      "tensor([10, 11, 12, 13, 14, 15, 17, 96])\n",
      "tensor([11, 12, 13, 14, 15, 17, 60, 61])\n",
      "tensor([12, 13, 14, 15, 17, 91, 92, 93])\n",
      "tensor([13, 14, 15, 96, 97, 97, 97, 97])\n",
      "tensor([14, 15, 96, 97, 97, 97, 97, 97])\n",
      "tensor([15, 17, 96, 97, 97, 97, 97, 97])\n",
      "tensor([96, 97, 97, 97, 97, 97, 97, 97])\n",
      "tensor([97, 97, 97, 97, 97, 97, 97, 97])\n",
      "tensor([10, 11, 12, 13, 14, 15, 96, 97])\n",
      "tensor([11, 12, 13, 14, 15, 17, 96, 97])\n",
      "tensor([12, 13, 14, 15, 17, 52, 60, 61])\n",
      "tensor([13, 14, 15, 17, 41, 60, 61, 62])\n",
      "tensor([14, 15, 16, 91, 92, 93, 94, 95])\n",
      "tensor([15, 16, 91, 92, 93, 94, 95, 96])\n",
      "tensor([17, 41, 42, 43, 44, 45, 46, 47])\n",
      "tensor([97, 97, 97, 97, 97, 97, 97, 97])\n",
      "tensor([10, 11, 12, 13, 14, 15, 16, 44])\n",
      "tensor([11, 12, 13, 14, 15, 16, 41, 60])\n",
      "tensor([12, 13, 14, 15, 96, 97, 97, 97])\n",
      "tensor([13, 14, 15, 17, 91, 92, 93, 94])\n",
      "tensor([14, 15, 16, 41, 60, 61, 62, 63])\n",
      "tensor([15, 96, 97, 97, 97, 97, 97, 97])\n",
      "tensor([96, 97, 97, 97, 97, 97, 97, 97])\n",
      "tensor([97, 97, 97, 97, 97, 97, 97, 97])\n",
      "tensor([10, 11, 12, 13, 14, 15, 96, 97])\n",
      "tensor([11, 12, 13, 14, 15, 17, 60, 61])\n",
      "tensor([12, 13, 14, 15, 17, 43, 44, 45])\n",
      "tensor([13, 14, 15, 17, 43, 44, 60, 61])\n",
      "tensor([14, 15, 16, 41, 44, 52, 60, 61])\n",
      "tensor([15, 16, 41, 44, 52, 53, 54, 55])\n",
      "tensor([16, 91, 92, 93, 94, 95, 96, 97])\n",
      "tensor([91, 92, 93, 94, 95, 96, 97, 97])\n",
      "tensor([10, 11, 12, 13, 14, 15, 17, 41])\n",
      "tensor([11, 12, 13, 14, 15, 17, 43, 44])\n",
      "tensor([12, 13, 14, 15, 96, 97, 97, 97])\n",
      "tensor([13, 14, 15, 96, 97, 97, 97, 97])\n",
      "tensor([14, 15, 16, 44, 45, 46, 47, 48])\n",
      "tensor([15, 16, 17, 43, 44, 60, 61, 62])\n",
      "tensor([17, 91, 92, 93, 94, 95, 96, 97])\n",
      "tensor([41, 44, 52, 53, 54, 55, 56, 57])\n"
     ]
    }
   ],
   "source": [
    "for i in list(loader)[1][0]:\n",
    "    print(i)"
   ]
  },
  {
   "cell_type": "code",
   "execution_count": 169,
   "metadata": {},
   "outputs": [],
   "source": [
    "model = Node2Vec(edges_tensor, embedding_dim=128, walk_length=20,\n",
    "                 context_size=10, walks_per_node=10,\n",
    "                 num_negative_samples=1, p=1, q=1, sparse=True).to(device)\n",
    "\n",
    "loader = model.loader(batch_size=8, shuffle=True, num_workers=4)\n",
    "optimizer = torch.optim.SparseAdam(list(model.parameters()), lr=0.01)"
   ]
  },
  {
   "cell_type": "code",
   "execution_count": 170,
   "metadata": {},
   "outputs": [],
   "source": [
    "def train():\n",
    "    model.train()\n",
    "    total_loss = 0\n",
    "    for pos_rw, neg_rw in tqdm(loader):\n",
    "        optimizer.zero_grad()\n",
    "        loss = model.loss(pos_rw.to(device), neg_rw.to(device))\n",
    "        loss.backward()\n",
    "        optimizer.step()\n",
    "        total_loss += loss.item()\n",
    "    return total_loss / len(loader)"
   ]
  },
  {
   "cell_type": "code",
   "execution_count": 171,
   "metadata": {},
   "outputs": [],
   "source": [
    "price = get_stock_price(data,tickers)"
   ]
  },
  {
   "cell_type": "code",
   "execution_count": 172,
   "metadata": {},
   "outputs": [
    {
     "data": {
      "text/plain": [
       "(98,)"
      ]
     },
     "execution_count": 172,
     "metadata": {},
     "output_type": "execute_result"
    }
   ],
   "source": [
    "dist = np.mean((price[1:31]/price[0,None]-1)>0.03,axis=0)\n",
    "dist.shape"
   ]
  },
  {
   "cell_type": "code",
   "execution_count": 173,
   "metadata": {},
   "outputs": [
    {
     "name": "stdout",
     "output_type": "stream",
     "text": [
      "{0: 0.35714285714285715, 1: 0.29591836734693877, 2: 0.3469387755102041}\n"
     ]
    }
   ],
   "source": [
    "less = dist>=0.35\n",
    "greater = dist>=0.7\n",
    "ret = 1*greater + 1*less\n",
    "print({i:sum(ret==i)/len(ret) for i in [0,1,2]})\n",
    "ret = torch.tensor(ret,dtype=torch.long,device=device)\n"
   ]
  },
  {
   "cell_type": "code",
   "execution_count": 174,
   "metadata": {},
   "outputs": [],
   "source": [
    "@torch.no_grad()\n",
    "def test():\n",
    "    model.eval()\n",
    "    z = model()\n",
    "    acc = model.test(z, ret,\n",
    "                     z, ret,\n",
    "                     max_iter=150)\n",
    "    return acc"
   ]
  },
  {
   "cell_type": "code",
   "execution_count": 175,
   "metadata": {},
   "outputs": [
    {
     "data": {
      "application/vnd.jupyter.widget-view+json": {
       "model_id": "f7150ebba22f4b7b91188f0bec72e5a4",
       "version_major": 2,
       "version_minor": 0
      },
      "text/plain": [
       "  0%|          | 0/13 [00:00<?, ?it/s]"
      ]
     },
     "metadata": {},
     "output_type": "display_data"
    },
    {
     "name": "stdout",
     "output_type": "stream",
     "text": [
      "Epoch: 01, Loss: 8.5671, Acc: 1.0000\n"
     ]
    },
    {
     "data": {
      "application/vnd.jupyter.widget-view+json": {
       "model_id": "ae2ee4bdbd82481f88c5b611650423ac",
       "version_major": 2,
       "version_minor": 0
      },
      "text/plain": [
       "  0%|          | 0/13 [00:00<?, ?it/s]"
      ]
     },
     "metadata": {},
     "output_type": "display_data"
    },
    {
     "name": "stdout",
     "output_type": "stream",
     "text": [
      "Epoch: 02, Loss: 6.1241, Acc: 1.0000\n"
     ]
    },
    {
     "data": {
      "application/vnd.jupyter.widget-view+json": {
       "model_id": "8ebccf72a3ed4c0e9a6cb589c68423f6",
       "version_major": 2,
       "version_minor": 0
      },
      "text/plain": [
       "  0%|          | 0/13 [00:00<?, ?it/s]"
      ]
     },
     "metadata": {},
     "output_type": "display_data"
    },
    {
     "name": "stdout",
     "output_type": "stream",
     "text": [
      "Epoch: 03, Loss: 4.8224, Acc: 1.0000\n"
     ]
    },
    {
     "data": {
      "application/vnd.jupyter.widget-view+json": {
       "model_id": "3289c8fa95f44f1b815bb5137ad7751b",
       "version_major": 2,
       "version_minor": 0
      },
      "text/plain": [
       "  0%|          | 0/13 [00:00<?, ?it/s]"
      ]
     },
     "metadata": {},
     "output_type": "display_data"
    },
    {
     "name": "stdout",
     "output_type": "stream",
     "text": [
      "Epoch: 04, Loss: 4.0013, Acc: 1.0000\n"
     ]
    },
    {
     "data": {
      "application/vnd.jupyter.widget-view+json": {
       "model_id": "d602f828800e4da9b2c72ce967ac6766",
       "version_major": 2,
       "version_minor": 0
      },
      "text/plain": [
       "  0%|          | 0/13 [00:00<?, ?it/s]"
      ]
     },
     "metadata": {},
     "output_type": "display_data"
    },
    {
     "name": "stdout",
     "output_type": "stream",
     "text": [
      "Epoch: 05, Loss: 3.6063, Acc: 1.0000\n"
     ]
    },
    {
     "data": {
      "application/vnd.jupyter.widget-view+json": {
       "model_id": "ddc05c80e372478dab6389442c4b4b10",
       "version_major": 2,
       "version_minor": 0
      },
      "text/plain": [
       "  0%|          | 0/13 [00:00<?, ?it/s]"
      ]
     },
     "metadata": {},
     "output_type": "display_data"
    },
    {
     "name": "stdout",
     "output_type": "stream",
     "text": [
      "Epoch: 06, Loss: 3.2830, Acc: 1.0000\n"
     ]
    },
    {
     "data": {
      "application/vnd.jupyter.widget-view+json": {
       "model_id": "0a11e7bdaeb345488e621c1a9892f060",
       "version_major": 2,
       "version_minor": 0
      },
      "text/plain": [
       "  0%|          | 0/13 [00:00<?, ?it/s]"
      ]
     },
     "metadata": {},
     "output_type": "display_data"
    },
    {
     "name": "stdout",
     "output_type": "stream",
     "text": [
      "Epoch: 07, Loss: 3.0933, Acc: 1.0000\n"
     ]
    },
    {
     "data": {
      "application/vnd.jupyter.widget-view+json": {
       "model_id": "8f94e2cc693a45dfa224eaa0eb870284",
       "version_major": 2,
       "version_minor": 0
      },
      "text/plain": [
       "  0%|          | 0/13 [00:00<?, ?it/s]"
      ]
     },
     "metadata": {},
     "output_type": "display_data"
    },
    {
     "name": "stdout",
     "output_type": "stream",
     "text": [
      "Epoch: 08, Loss: 2.9775, Acc: 1.0000\n"
     ]
    },
    {
     "data": {
      "application/vnd.jupyter.widget-view+json": {
       "model_id": "15bed0399f0543828899fd6365af0c00",
       "version_major": 2,
       "version_minor": 0
      },
      "text/plain": [
       "  0%|          | 0/13 [00:00<?, ?it/s]"
      ]
     },
     "metadata": {},
     "output_type": "display_data"
    },
    {
     "name": "stdout",
     "output_type": "stream",
     "text": [
      "Epoch: 09, Loss: 2.9100, Acc: 1.0000\n"
     ]
    },
    {
     "data": {
      "application/vnd.jupyter.widget-view+json": {
       "model_id": "e8058acfe18d437a97a7e4f6dce184ed",
       "version_major": 2,
       "version_minor": 0
      },
      "text/plain": [
       "  0%|          | 0/13 [00:00<?, ?it/s]"
      ]
     },
     "metadata": {},
     "output_type": "display_data"
    },
    {
     "name": "stdout",
     "output_type": "stream",
     "text": [
      "Epoch: 10, Loss: 2.6980, Acc: 1.0000\n"
     ]
    },
    {
     "data": {
      "application/vnd.jupyter.widget-view+json": {
       "model_id": "7007ed2ddb5043a29cd7c0e8c6858556",
       "version_major": 2,
       "version_minor": 0
      },
      "text/plain": [
       "  0%|          | 0/13 [00:00<?, ?it/s]"
      ]
     },
     "metadata": {},
     "output_type": "display_data"
    },
    {
     "name": "stdout",
     "output_type": "stream",
     "text": [
      "Epoch: 11, Loss: 2.6899, Acc: 1.0000\n"
     ]
    },
    {
     "data": {
      "application/vnd.jupyter.widget-view+json": {
       "model_id": "ed3845621b5549f2a8cd00d6a23a7802",
       "version_major": 2,
       "version_minor": 0
      },
      "text/plain": [
       "  0%|          | 0/13 [00:00<?, ?it/s]"
      ]
     },
     "metadata": {},
     "output_type": "display_data"
    },
    {
     "name": "stdout",
     "output_type": "stream",
     "text": [
      "Epoch: 12, Loss: 2.6963, Acc: 1.0000\n"
     ]
    },
    {
     "data": {
      "application/vnd.jupyter.widget-view+json": {
       "model_id": "38b8021ff6df402283491b9440e5e1de",
       "version_major": 2,
       "version_minor": 0
      },
      "text/plain": [
       "  0%|          | 0/13 [00:00<?, ?it/s]"
      ]
     },
     "metadata": {},
     "output_type": "display_data"
    },
    {
     "name": "stdout",
     "output_type": "stream",
     "text": [
      "Epoch: 13, Loss: 2.5942, Acc: 1.0000\n"
     ]
    },
    {
     "data": {
      "application/vnd.jupyter.widget-view+json": {
       "model_id": "f97ed2ad9dd8449c9ad065a53d77b61b",
       "version_major": 2,
       "version_minor": 0
      },
      "text/plain": [
       "  0%|          | 0/13 [00:00<?, ?it/s]"
      ]
     },
     "metadata": {},
     "output_type": "display_data"
    },
    {
     "name": "stdout",
     "output_type": "stream",
     "text": [
      "Epoch: 14, Loss: 2.5880, Acc: 1.0000\n"
     ]
    },
    {
     "data": {
      "application/vnd.jupyter.widget-view+json": {
       "model_id": "c3544a8c11ce4e77be86404c525c7382",
       "version_major": 2,
       "version_minor": 0
      },
      "text/plain": [
       "  0%|          | 0/13 [00:00<?, ?it/s]"
      ]
     },
     "metadata": {},
     "output_type": "display_data"
    },
    {
     "name": "stdout",
     "output_type": "stream",
     "text": [
      "Epoch: 15, Loss: 2.5732, Acc: 1.0000\n"
     ]
    },
    {
     "data": {
      "application/vnd.jupyter.widget-view+json": {
       "model_id": "5ac3c53fbb31467e83f7fd036844496f",
       "version_major": 2,
       "version_minor": 0
      },
      "text/plain": [
       "  0%|          | 0/13 [00:00<?, ?it/s]"
      ]
     },
     "metadata": {},
     "output_type": "display_data"
    },
    {
     "name": "stdout",
     "output_type": "stream",
     "text": [
      "Epoch: 16, Loss: 2.5298, Acc: 1.0000\n"
     ]
    },
    {
     "data": {
      "application/vnd.jupyter.widget-view+json": {
       "model_id": "1218719a038740508d93e484843262fe",
       "version_major": 2,
       "version_minor": 0
      },
      "text/plain": [
       "  0%|          | 0/13 [00:00<?, ?it/s]"
      ]
     },
     "metadata": {},
     "output_type": "display_data"
    },
    {
     "name": "stdout",
     "output_type": "stream",
     "text": [
      "Epoch: 17, Loss: 2.5060, Acc: 1.0000\n"
     ]
    },
    {
     "data": {
      "application/vnd.jupyter.widget-view+json": {
       "model_id": "890f7936d6d4420aaeea463c67124635",
       "version_major": 2,
       "version_minor": 0
      },
      "text/plain": [
       "  0%|          | 0/13 [00:00<?, ?it/s]"
      ]
     },
     "metadata": {},
     "output_type": "display_data"
    },
    {
     "name": "stdout",
     "output_type": "stream",
     "text": [
      "Epoch: 18, Loss: 2.5712, Acc: 1.0000\n"
     ]
    },
    {
     "data": {
      "application/vnd.jupyter.widget-view+json": {
       "model_id": "221367ec95d04257bb199282707f9f7e",
       "version_major": 2,
       "version_minor": 0
      },
      "text/plain": [
       "  0%|          | 0/13 [00:00<?, ?it/s]"
      ]
     },
     "metadata": {},
     "output_type": "display_data"
    },
    {
     "name": "stdout",
     "output_type": "stream",
     "text": [
      "Epoch: 19, Loss: 2.6090, Acc: 1.0000\n"
     ]
    },
    {
     "data": {
      "application/vnd.jupyter.widget-view+json": {
       "model_id": "acfa590b9f284cc88650a7d028e2285f",
       "version_major": 2,
       "version_minor": 0
      },
      "text/plain": [
       "  0%|          | 0/13 [00:00<?, ?it/s]"
      ]
     },
     "metadata": {},
     "output_type": "display_data"
    },
    {
     "name": "stdout",
     "output_type": "stream",
     "text": [
      "Epoch: 20, Loss: 2.5177, Acc: 1.0000\n"
     ]
    },
    {
     "data": {
      "application/vnd.jupyter.widget-view+json": {
       "model_id": "d6bea181bf0e4ebc87ac567b5324c28d",
       "version_major": 2,
       "version_minor": 0
      },
      "text/plain": [
       "  0%|          | 0/13 [00:00<?, ?it/s]"
      ]
     },
     "metadata": {},
     "output_type": "display_data"
    },
    {
     "name": "stdout",
     "output_type": "stream",
     "text": [
      "Epoch: 21, Loss: 2.5856, Acc: 1.0000\n"
     ]
    },
    {
     "data": {
      "application/vnd.jupyter.widget-view+json": {
       "model_id": "a8a2da3b8f4c458f87c790b33723cabe",
       "version_major": 2,
       "version_minor": 0
      },
      "text/plain": [
       "  0%|          | 0/13 [00:00<?, ?it/s]"
      ]
     },
     "metadata": {},
     "output_type": "display_data"
    },
    {
     "name": "stdout",
     "output_type": "stream",
     "text": [
      "Epoch: 22, Loss: 2.5147, Acc: 1.0000\n"
     ]
    },
    {
     "data": {
      "application/vnd.jupyter.widget-view+json": {
       "model_id": "b0626de9da954d53a1064445cc32821b",
       "version_major": 2,
       "version_minor": 0
      },
      "text/plain": [
       "  0%|          | 0/13 [00:00<?, ?it/s]"
      ]
     },
     "metadata": {},
     "output_type": "display_data"
    },
    {
     "name": "stdout",
     "output_type": "stream",
     "text": [
      "Epoch: 23, Loss: 2.5592, Acc: 1.0000\n"
     ]
    },
    {
     "data": {
      "application/vnd.jupyter.widget-view+json": {
       "model_id": "fd98a6f8b2b34ae8bcdf0bc17688db67",
       "version_major": 2,
       "version_minor": 0
      },
      "text/plain": [
       "  0%|          | 0/13 [00:00<?, ?it/s]"
      ]
     },
     "metadata": {},
     "output_type": "display_data"
    },
    {
     "name": "stdout",
     "output_type": "stream",
     "text": [
      "Epoch: 24, Loss: 2.5291, Acc: 1.0000\n"
     ]
    },
    {
     "data": {
      "application/vnd.jupyter.widget-view+json": {
       "model_id": "52221f8fc98147de9d06bf75176cf5ab",
       "version_major": 2,
       "version_minor": 0
      },
      "text/plain": [
       "  0%|          | 0/13 [00:00<?, ?it/s]"
      ]
     },
     "metadata": {},
     "output_type": "display_data"
    },
    {
     "name": "stdout",
     "output_type": "stream",
     "text": [
      "Epoch: 25, Loss: 2.5808, Acc: 1.0000\n"
     ]
    },
    {
     "data": {
      "application/vnd.jupyter.widget-view+json": {
       "model_id": "0c76e947f2684296aa630b9dbfb0210c",
       "version_major": 2,
       "version_minor": 0
      },
      "text/plain": [
       "  0%|          | 0/13 [00:00<?, ?it/s]"
      ]
     },
     "metadata": {},
     "output_type": "display_data"
    },
    {
     "name": "stdout",
     "output_type": "stream",
     "text": [
      "Epoch: 26, Loss: 2.5740, Acc: 1.0000\n"
     ]
    },
    {
     "data": {
      "application/vnd.jupyter.widget-view+json": {
       "model_id": "9606ac2982264614b8874091292a34b8",
       "version_major": 2,
       "version_minor": 0
      },
      "text/plain": [
       "  0%|          | 0/13 [00:00<?, ?it/s]"
      ]
     },
     "metadata": {},
     "output_type": "display_data"
    },
    {
     "name": "stdout",
     "output_type": "stream",
     "text": [
      "Epoch: 27, Loss: 2.5139, Acc: 1.0000\n"
     ]
    },
    {
     "data": {
      "application/vnd.jupyter.widget-view+json": {
       "model_id": "7c7fa182e5b440bb92539a21bec6b1f2",
       "version_major": 2,
       "version_minor": 0
      },
      "text/plain": [
       "  0%|          | 0/13 [00:00<?, ?it/s]"
      ]
     },
     "metadata": {},
     "output_type": "display_data"
    },
    {
     "name": "stdout",
     "output_type": "stream",
     "text": [
      "Epoch: 28, Loss: 2.5067, Acc: 1.0000\n"
     ]
    },
    {
     "data": {
      "application/vnd.jupyter.widget-view+json": {
       "model_id": "a81bc7f12d7547e78549d6f43aae1ef7",
       "version_major": 2,
       "version_minor": 0
      },
      "text/plain": [
       "  0%|          | 0/13 [00:00<?, ?it/s]"
      ]
     },
     "metadata": {},
     "output_type": "display_data"
    },
    {
     "name": "stdout",
     "output_type": "stream",
     "text": [
      "Epoch: 29, Loss: 2.5601, Acc: 1.0000\n"
     ]
    },
    {
     "data": {
      "application/vnd.jupyter.widget-view+json": {
       "model_id": "a8d19921b97743e7b76e9682a3fdc8b1",
       "version_major": 2,
       "version_minor": 0
      },
      "text/plain": [
       "  0%|          | 0/13 [00:00<?, ?it/s]"
      ]
     },
     "metadata": {},
     "output_type": "display_data"
    },
    {
     "name": "stdout",
     "output_type": "stream",
     "text": [
      "Epoch: 30, Loss: 2.5860, Acc: 1.0000\n"
     ]
    },
    {
     "data": {
      "application/vnd.jupyter.widget-view+json": {
       "model_id": "65df94f21c9547e7b3d0ecb49a2e68cf",
       "version_major": 2,
       "version_minor": 0
      },
      "text/plain": [
       "  0%|          | 0/13 [00:00<?, ?it/s]"
      ]
     },
     "metadata": {},
     "output_type": "display_data"
    },
    {
     "name": "stdout",
     "output_type": "stream",
     "text": [
      "Epoch: 31, Loss: 2.5367, Acc: 1.0000\n"
     ]
    },
    {
     "data": {
      "application/vnd.jupyter.widget-view+json": {
       "model_id": "6874d0123fba49b59b6b6ea7173f3e6d",
       "version_major": 2,
       "version_minor": 0
      },
      "text/plain": [
       "  0%|          | 0/13 [00:00<?, ?it/s]"
      ]
     },
     "metadata": {},
     "output_type": "display_data"
    },
    {
     "name": "stdout",
     "output_type": "stream",
     "text": [
      "Epoch: 32, Loss: 2.5150, Acc: 1.0000\n"
     ]
    },
    {
     "data": {
      "application/vnd.jupyter.widget-view+json": {
       "model_id": "37d24f0a70da462081c63b634a4f195c",
       "version_major": 2,
       "version_minor": 0
      },
      "text/plain": [
       "  0%|          | 0/13 [00:00<?, ?it/s]"
      ]
     },
     "metadata": {},
     "output_type": "display_data"
    },
    {
     "name": "stdout",
     "output_type": "stream",
     "text": [
      "Epoch: 33, Loss: 2.5292, Acc: 1.0000\n"
     ]
    },
    {
     "data": {
      "application/vnd.jupyter.widget-view+json": {
       "model_id": "98143260743c4777a2bda6c077943491",
       "version_major": 2,
       "version_minor": 0
      },
      "text/plain": [
       "  0%|          | 0/13 [00:00<?, ?it/s]"
      ]
     },
     "metadata": {},
     "output_type": "display_data"
    },
    {
     "name": "stdout",
     "output_type": "stream",
     "text": [
      "Epoch: 34, Loss: 2.5070, Acc: 1.0000\n"
     ]
    },
    {
     "data": {
      "application/vnd.jupyter.widget-view+json": {
       "model_id": "0838d3bd43354dd5a65a2b924479cfd1",
       "version_major": 2,
       "version_minor": 0
      },
      "text/plain": [
       "  0%|          | 0/13 [00:00<?, ?it/s]"
      ]
     },
     "metadata": {},
     "output_type": "display_data"
    },
    {
     "name": "stdout",
     "output_type": "stream",
     "text": [
      "Epoch: 35, Loss: 2.5845, Acc: 1.0000\n"
     ]
    },
    {
     "data": {
      "application/vnd.jupyter.widget-view+json": {
       "model_id": "8d2a278fe14a484186c8bbad1d347203",
       "version_major": 2,
       "version_minor": 0
      },
      "text/plain": [
       "  0%|          | 0/13 [00:00<?, ?it/s]"
      ]
     },
     "metadata": {},
     "output_type": "display_data"
    },
    {
     "name": "stdout",
     "output_type": "stream",
     "text": [
      "Epoch: 36, Loss: 2.5055, Acc: 1.0000\n"
     ]
    },
    {
     "data": {
      "application/vnd.jupyter.widget-view+json": {
       "model_id": "b85251bafecc4ea0b7c6415fbe4ab963",
       "version_major": 2,
       "version_minor": 0
      },
      "text/plain": [
       "  0%|          | 0/13 [00:00<?, ?it/s]"
      ]
     },
     "metadata": {},
     "output_type": "display_data"
    },
    {
     "name": "stdout",
     "output_type": "stream",
     "text": [
      "Epoch: 37, Loss: 2.6006, Acc: 1.0000\n"
     ]
    },
    {
     "data": {
      "application/vnd.jupyter.widget-view+json": {
       "model_id": "5cc57554775a4ba9b8952c1df0475c2b",
       "version_major": 2,
       "version_minor": 0
      },
      "text/plain": [
       "  0%|          | 0/13 [00:00<?, ?it/s]"
      ]
     },
     "metadata": {},
     "output_type": "display_data"
    },
    {
     "name": "stdout",
     "output_type": "stream",
     "text": [
      "Epoch: 38, Loss: 2.5418, Acc: 1.0000\n"
     ]
    },
    {
     "data": {
      "application/vnd.jupyter.widget-view+json": {
       "model_id": "e514e4c0ec6b4f9884b2cb7391c6826e",
       "version_major": 2,
       "version_minor": 0
      },
      "text/plain": [
       "  0%|          | 0/13 [00:00<?, ?it/s]"
      ]
     },
     "metadata": {},
     "output_type": "display_data"
    },
    {
     "name": "stdout",
     "output_type": "stream",
     "text": [
      "Epoch: 39, Loss: 2.5207, Acc: 1.0000\n"
     ]
    },
    {
     "data": {
      "application/vnd.jupyter.widget-view+json": {
       "model_id": "22e91c9a12e646618320770304f31639",
       "version_major": 2,
       "version_minor": 0
      },
      "text/plain": [
       "  0%|          | 0/13 [00:00<?, ?it/s]"
      ]
     },
     "metadata": {},
     "output_type": "display_data"
    },
    {
     "name": "stdout",
     "output_type": "stream",
     "text": [
      "Epoch: 40, Loss: 2.5531, Acc: 1.0000\n"
     ]
    },
    {
     "data": {
      "application/vnd.jupyter.widget-view+json": {
       "model_id": "2ddf2c8f35204d8791c52e8f29362a13",
       "version_major": 2,
       "version_minor": 0
      },
      "text/plain": [
       "  0%|          | 0/13 [00:00<?, ?it/s]"
      ]
     },
     "metadata": {},
     "output_type": "display_data"
    },
    {
     "name": "stdout",
     "output_type": "stream",
     "text": [
      "Epoch: 41, Loss: 2.5185, Acc: 1.0000\n"
     ]
    },
    {
     "data": {
      "application/vnd.jupyter.widget-view+json": {
       "model_id": "099e123aa8b74f40b5f9d303583c6ed3",
       "version_major": 2,
       "version_minor": 0
      },
      "text/plain": [
       "  0%|          | 0/13 [00:00<?, ?it/s]"
      ]
     },
     "metadata": {},
     "output_type": "display_data"
    },
    {
     "name": "stdout",
     "output_type": "stream",
     "text": [
      "Epoch: 42, Loss: 2.5249, Acc: 1.0000\n"
     ]
    },
    {
     "data": {
      "application/vnd.jupyter.widget-view+json": {
       "model_id": "6e11d4381bee45cabac7b7051689babe",
       "version_major": 2,
       "version_minor": 0
      },
      "text/plain": [
       "  0%|          | 0/13 [00:00<?, ?it/s]"
      ]
     },
     "metadata": {},
     "output_type": "display_data"
    },
    {
     "name": "stdout",
     "output_type": "stream",
     "text": [
      "Epoch: 43, Loss: 2.5015, Acc: 1.0000\n"
     ]
    },
    {
     "data": {
      "application/vnd.jupyter.widget-view+json": {
       "model_id": "0e692ec04f37485a9716fe3db5a4f63c",
       "version_major": 2,
       "version_minor": 0
      },
      "text/plain": [
       "  0%|          | 0/13 [00:00<?, ?it/s]"
      ]
     },
     "metadata": {},
     "output_type": "display_data"
    },
    {
     "name": "stdout",
     "output_type": "stream",
     "text": [
      "Epoch: 44, Loss: 2.5532, Acc: 1.0000\n"
     ]
    },
    {
     "data": {
      "application/vnd.jupyter.widget-view+json": {
       "model_id": "25bbf563868c4528aa94b8f3f6f09346",
       "version_major": 2,
       "version_minor": 0
      },
      "text/plain": [
       "  0%|          | 0/13 [00:00<?, ?it/s]"
      ]
     },
     "metadata": {},
     "output_type": "display_data"
    },
    {
     "name": "stdout",
     "output_type": "stream",
     "text": [
      "Epoch: 45, Loss: 2.4927, Acc: 1.0000\n"
     ]
    },
    {
     "data": {
      "application/vnd.jupyter.widget-view+json": {
       "model_id": "86daccb09f51441ba41b05559935af2b",
       "version_major": 2,
       "version_minor": 0
      },
      "text/plain": [
       "  0%|          | 0/13 [00:00<?, ?it/s]"
      ]
     },
     "metadata": {},
     "output_type": "display_data"
    },
    {
     "name": "stdout",
     "output_type": "stream",
     "text": [
      "Epoch: 46, Loss: 2.5621, Acc: 1.0000\n"
     ]
    },
    {
     "data": {
      "application/vnd.jupyter.widget-view+json": {
       "model_id": "97c3d2d9dc984e01ad1b161e9b8fd3a1",
       "version_major": 2,
       "version_minor": 0
      },
      "text/plain": [
       "  0%|          | 0/13 [00:00<?, ?it/s]"
      ]
     },
     "metadata": {},
     "output_type": "display_data"
    },
    {
     "name": "stdout",
     "output_type": "stream",
     "text": [
      "Epoch: 47, Loss: 2.5019, Acc: 1.0000\n"
     ]
    },
    {
     "data": {
      "application/vnd.jupyter.widget-view+json": {
       "model_id": "70c4e6817b9b4dda8467c1781f4adb4e",
       "version_major": 2,
       "version_minor": 0
      },
      "text/plain": [
       "  0%|          | 0/13 [00:00<?, ?it/s]"
      ]
     },
     "metadata": {},
     "output_type": "display_data"
    },
    {
     "name": "stdout",
     "output_type": "stream",
     "text": [
      "Epoch: 48, Loss: 2.5424, Acc: 1.0000\n"
     ]
    },
    {
     "data": {
      "application/vnd.jupyter.widget-view+json": {
       "model_id": "15f5f338bb94476eb7cbfd04d7e70dd7",
       "version_major": 2,
       "version_minor": 0
      },
      "text/plain": [
       "  0%|          | 0/13 [00:00<?, ?it/s]"
      ]
     },
     "metadata": {},
     "output_type": "display_data"
    },
    {
     "name": "stdout",
     "output_type": "stream",
     "text": [
      "Epoch: 49, Loss: 2.4978, Acc: 1.0000\n"
     ]
    }
   ],
   "source": [
    "for epoch in range(1, 50):\n",
    "    loss = train()\n",
    "    acc = test()\n",
    "    print(f'Epoch: {epoch:02d}, Loss: {loss:.4f}, Acc: {acc:.4f}')"
   ]
  },
  {
   "cell_type": "code",
   "execution_count": 180,
   "metadata": {},
   "outputs": [
    {
     "data": {
      "image/png": "[encoded data removed]",
      "text/plain": [
       "<Figure size 500x500 with 1 Axes>"
      ]
     },
     "metadata": {},
     "output_type": "display_data"
    },
    {
     "data": {
      "image/png": "[encoded data removed]",
      "text/plain": [
       "<Figure size 500x500 with 1 Axes>"
      ]
     },
     "metadata": {},
     "output_type": "display_data"
    }
   ],
   "source": [
    "@torch.no_grad()\n",
    "def plot_points(num_of_nodes,colors, edges = None):\n",
    "    model.eval()\n",
    "    z = model(torch.arange(num_of_nodes, device=device))\n",
    "    z = TSNE(n_components=2,perplexity=5).fit_transform(z.cpu().numpy())\n",
    "    y = ret.cpu().numpy()\n",
    "    plt.figure(figsize=(5, 5))\n",
    "    for i in range(3):\n",
    "        plt.scatter(z[y == i, 0], z[y == i, 1], s=20, color=colors[i])\n",
    "    if edges:\n",
    "        for e in edges:\n",
    "            plt.plot(z[e,0],z[e,1],alpha = 0.5)\n",
    "    plt.axis('on')\n",
    "    plt.show()\n",
    "\n",
    "colors = [\n",
    "    '#ffc0cb', '#bada55', '#008080', '#420420', '#7fe5f0', '#065535',\n",
    "    '#ffd700'\n",
    "]\n",
    "plot_points(m,colors,G.edges)\n",
    "plot_points(m,colors)"
   ]
  },
  {
   "cell_type": "code",
   "execution_count": null,
   "metadata": {},
   "outputs": [],
   "source": [
    "import networkx as nx\n",
    "def read_graph(our_format):\n",
    "\t'''\n",
    "\tReads the input network in networkx.\n",
    "\t'''\n",
    "\tif len(our_format)==2:\n",
    "\t\tlines = [str(x[0])+' '+str(x[1]) for x in zip(*our_format)]\n",
    "\telse:\n",
    "\t\tlines = [str(x[0])+' '+str(x[1]) for x in our_format]\n",
    "\tG = nx.parse_edgelist(lines, nodetype=int)\n",
    "\tfor edge in G.edges():\n",
    "\t\tG[edge[0]][edge[1]]['weight'] = 1\n",
    "\tG = G.to_undirected()\n",
    "\n",
    "\treturn G"
   ]
  },
  {
   "cell_type": "code",
   "execution_count": 7,
   "metadata": {},
   "outputs": [
    {
     "name": "stdout",
     "output_type": "stream",
     "text": [
      "Walk iteration:\n",
      "1 / 5\n",
      "2 / 5\n",
      "3 / 5\n",
      "4 / 5\n",
      "5 / 5\n"
     ]
    }
   ],
   "source": [
    "import node2vector as node2vec\n",
    "p = 0.25\n",
    "q = 0.25\n",
    "num_walks =5\n",
    "walk_length = 5\n",
    "nx_G = read_graph(edges)\n",
    "G = node2vec.Graph(nx_G, p, q)\n",
    "G.preprocess_transition_probs()\n",
    "walks = G.simulate_walks(num_walks, walk_length)"
   ]
  },
  {
   "cell_type": "code",
   "execution_count": 8,
   "metadata": {},
   "outputs": [
    {
     "ename": "NameError",
     "evalue": "name 'loader' is not defined",
     "output_type": "error",
     "traceback": [
      "\u001b[0;31m---------------------------------------------------------------------------\u001b[0m",
      "\u001b[0;31mNameError\u001b[0m                                 Traceback (most recent call last)",
      "Cell \u001b[0;32mIn[8], line 1\u001b[0m\n\u001b[0;32m----> 1\u001b[0m nodelist \u001b[39m=\u001b[39m \u001b[39mnext\u001b[39m(\u001b[39menumerate\u001b[39m(loader))[\u001b[39m1\u001b[39m][\u001b[39m0\u001b[39m][\u001b[39m0\u001b[39m]\u001b[39m.\u001b[39mtolist()\n\u001b[1;32m      2\u001b[0m walk \u001b[39m=\u001b[39m nx\u001b[39m.\u001b[39mpath_graph(\u001b[39mlen\u001b[39m(nodelist))\n\u001b[1;32m      3\u001b[0m nx\u001b[39m.\u001b[39mset_node_attributes(walk, {idx: pos[node_id] \u001b[39mfor\u001b[39;00m idx, node_id \u001b[39min\u001b[39;00m \u001b[39menumerate\u001b[39m(nodelist)}, \u001b[39m'\u001b[39m\u001b[39mpos\u001b[39m\u001b[39m'\u001b[39m)\n",
      "\u001b[0;31mNameError\u001b[0m: name 'loader' is not defined"
     ]
    }
   ],
   "source": [
    "nodelist = next(enumerate(loader))[1][0][0].tolist()\n",
    "walk = nx.path_graph(len(nodelist))\n",
    "nx.set_node_attributes(walk, {idx: pos[node_id] for idx, node_id in enumerate(nodelist)}, 'pos')\n",
    "\n",
    "fig = plt.figure(figsize=(20, 10))\n",
    "ax = fig.add_subplot(1, 2, 1)\n",
    "nx.draw_networkx_nodes(G, \n",
    "                       ax=ax,\n",
    "                       pos=nx.get_node_attributes(G, 'pos'), \n",
    "                       node_size=5,\n",
    "                       alpha=0.3,\n",
    "                       node_color='b')\n",
    "nx.draw(walk, \n",
    "        node_size=40,\n",
    "        node_color='r',\n",
    "        ax=ax,\n",
    "        pos=nx.get_node_attributes(walk, 'pos'), \n",
    "        width=2,\n",
    "        edge_color='r') \n",
    "ax = fig.add_subplot(1, 2, 2)\n",
    "nx.draw(walk, \n",
    "        node_size=40,\n",
    "        node_color='r',\n",
    "        ax=ax,\n",
    "        pos=nx.get_node_attributes(walk, 'pos'), \n",
    "        width=2,\n",
    "        edge_color='r') "
   ]
  }
 ],
 "metadata": {
  "kernelspec": {
   "display_name": "torch-cuda",
   "language": "python",
   "name": "python3"
  },
  "language_info": {
   "codemirror_mode": {
    "name": "ipython",
    "version": 3
   },
   "file_extension": ".py",
   "mimetype": "text/x-python",
   "name": "python",
   "nbconvert_exporter": "python",
   "pygments_lexer": "ipython3",
   "version": "3.9.16"
  },
  "orig_nbformat": 4
 },
 "nbformat": 4,
 "nbformat_minor": 2
}
